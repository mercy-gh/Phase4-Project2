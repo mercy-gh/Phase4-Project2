{
 "cells": [
  {
   "cell_type": "markdown",
   "metadata": {},
   "source": [
    "# 1 Business Understanding\n",
    "\n",
    "## 1.0 Overview\n",
    "With the rapid expansion of internet streaming platforms, users are overwhelmed by the sheer volume of available movies. Providing personalized recommendations is critical for increasing user engagement, satisfaction, and retention. The MovieLens (ml-latest-small) dataset, rom [MovieLens](http://movielens.org) (a movie recommendation service),  includes user-generated 5-star ratings and free-text tags that can be used to create a powerful recommendation engine.\n",
    "\n",
    "\n",
    "## 1.1 Problem Statement\n",
    "With thousands of movies accessible on streaming platforms, customers struggle to discover ones they'll like. This choice overload frequently results in dissatisfaction, decision fatigue, and low user engagement.\n",
    "Many systems rely on generic rankings or trending lists that do not consider individual preferences. This leads to irrelevant movie suggestions that do not match user preferences, longer search times lower user happiness, or low retention rates due to users potentially switching to competitors with better recommendations.\n",
    "\n",
    "The goal is to create a movie recommendation system that can predict user preferences based on previous interactions. Specifically, we want to:\n",
    "\n",
    "## 1.2 Objectives\n",
    "&#x2611; Analyze user ratings and tags to find patterns and trends.\n",
    "\n",
    "&#x2611; Create a recommendation model that incorporates collaborative filtering, content-based filtering, or hybrid approaches.\n",
    "\n",
    "&#x2611; Address critical issues such as data scarcity, cold start issues, and bias in user ratings.\n",
    "\n",
    "&#x2611; Assess model performance using relevant measures such as RMSE or MAE.\n",
    "\n",
    "\n",
    "\n",
    "## 1.3 Proposed solution\n",
    "The objective is to examine and use the dataset to boost user engagement by developing a movie recommendation engine. Potential applications include:\n",
    "\n",
    "&#x1f8ae; Personalized **Movie Recommendations** - Predict user preferences based on previous ratings.\n",
    "\n",
    "&#x1f8ae; Customize content by **segmenting and clustering users** based on similar preferences.\n",
    "\n",
    "&#x1f8ae; **Trend Analysis and Insights**: Discover popular genres, top-rated movies, and viewing behaviors.\n",
    "\n",
    "&#x1f8ae; Tag-based **sentiment analysis** provides insights into user perception of movies.\n",
    "\n",
    "\n",
    "&#x2713; **Next Steps**\n",
    "\n",
    "&#x2A39; Exploratory Data Analysis (EDA) – Understand rating distributions, popular tags, and trends.\n",
    "\n",
    "&#x2A3B; Feature Engineering – Transform text tags into meaningful numerical features.\n",
    "\n",
    "&#x2A39; Model Selection – Choose between collaborative filtering or content-based filtering.\n",
    "\n",
    "&#x2A3B; Evaluation Metrics – Use RMSE or MAE to assess recommendation performance.\n",
    "\n",
    "\n",
    "\n",
    "### Challenges & Considerations\n",
    "* Data Sparsity: Not all users have rated all movies, leading to gaps in the dataset.\n",
    "* Cold Start Problem: New users/movies lack enough data for accurate recommendations.\n",
    "* Bias in Ratings: Some users may consistently rate higher or lower than others.\n",
    "* Scalability: The model should be efficient enough to handle large datasets in real-world applications."
   ]
  },
  {
   "cell_type": "markdown",
   "metadata": {},
   "source": [
    "# 2 Data Understanding"
   ]
  },
  {
   "cell_type": "markdown",
   "metadata": {},
   "source": [
    "The MovieLens dataset (ml-latest-small) comprises user-generated movie ratings as well as free-text tags. This dataset is commonly used in recommendation systems, where businesses try to improve the customer experience by proposing movies based on user interests.Companies like Netflix, Hulu, and Amazon Prime Video use similar databases to boost user engagement, retention, and satisfaction through personalized suggestions.\n",
    "\n",
    "The dataset consists of 5-star ratings and free-text tags from MovieLens, an online movie recommendation service.\n",
    "\n",
    "Users rate movies on a 1-5 star scale (higher ratings indicate better user satisfaction).\n",
    "Tags are free-text descriptions provided by users to describe movies (e.g., \"thriller,\" \"comedy,\" \"Oscar-winning\").\n",
    "The dataset is anonymized (users are represented by IDs).\n",
    "\n",
    "|File Name | Description|\n",
    "|----------|------------|\n",
    "|ratings.csv |\tContains user ratings for movies (1-5 scale).|\n",
    "|movies.csv |\tMetadata including movie titles and genres.|\n",
    "|tags.csv |\tFree-text tags assigned by users to movies.|\n",
    "|links.csv |\tProvides mappings to external movie databases (IMDB, TMDb).|\n",
    "\n",
    "\n",
    "**Identifiers**\n",
    "- *userId*: random and anonymous IDs given to identify users. MovieLens users were selected at random for inclusion. Their ids have been anonymized. User ids are consistent between `ratings.csv` and `tags.csv` (i.e., the same id refers to the same user across the two files)\n",
    "\n",
    "- *movieId*: IDs given to identify movies. Since only those movies which have 1 or more rating or tag are selected, it is not a complete sequence. Movie ids are consistent between `ratings.csv`, `tags.csv`, `movies.csv`, and `links.csv` (i.e., the same id refers to the same movie across these four data files)\n",
    "\n",
    "**Movies Data columns:**\n",
    "- *movieId*:Unique movie identifier.\n",
    "- *title:* Movie title, and include the year of release in parentheses.\n",
    "- *genre:* a pipe-separated list, and are selected from the following: Action, Adventure, Animation, Children's, Comedy, Crime, Documentary, Drama, Fantasy, Film-Noir, Horror, Musical, Mystery, Romance, \n",
    "Sci-Fi, Thriller, War, Western and \"no genres listed\"\n",
    "\n",
    "**Ratings Data columns:**\n",
    "- *userId* – Unique identifier for each user.\n",
    "- *movieId* – Unique identifier for each movie.\n",
    "- *rating:* User rating (1-5 stars), with half-star increments (0.5 stars - 5.0 stars).\n",
    "- *timestamp:* Time when the rating was given.\n",
    "\n",
    "**Links data features:**\n",
    "- *movieId:* Unique identifier for each movie.\n",
    "- *imdbId:* an identifier for movies used by <http://www.imdb.com>\n",
    "- *tmdbId:* an identifier for movies used by <https://www.themoviedb.org>\n",
    "\n",
    "**Tags data features:**\n",
    "- *userId* – Unique user identifier.\n",
    "- *movieId* – Movie being tagged.\n",
    "- *tag:* Free-text tag (e.g., \"thrilling,\" \"mind-blowing,\" \"classic\").\n",
    "- *timestamp:* Time when the tag was added\n"
   ]
  },
  {
   "cell_type": "code",
   "execution_count": 362,
   "metadata": {},
   "outputs": [],
   "source": [
    "# Data understanding\n",
    "\n",
    "# import the relevant libraries\n",
    "\n",
    "# import data manipulation libraries\n",
    "import pandas as pd\n",
    "import numpy as np\n",
    "import scipy.sparse as sp\n",
    "\n",
    "# import data visualisation libraries\n",
    "import matplotlib.pyplot as plt\n",
    "import seaborn as sns\n",
    "\n",
    "# import modeling libraries\n",
    "from sklearn.model_selection import train_test_split\n",
    "from surprise.model_selection import GridSearchCV#, cross_validate\n",
    "\n",
    "# Processing \n",
    "from surprise.prediction_algorithms import KNNBasic\n",
    "from surprise import accuracy\n",
    "\n",
    "# import Preprocessing and Metric Evaluation libraries\n",
    "from sklearn.preprocessing import MultiLabelBinarizer, LabelEncoder, OneHotEncoder, StandardScaler\n",
    "from sklearn.metrics import mean_absolute_error#, root_mean_squared_error\n",
    "from sklearn.metrics.pairwise import cosine_similarity\n",
    "from collections import Counter\n",
    "\n",
    "import warnings; warnings.simplefilter('ignore')"
   ]
  },
  {
   "cell_type": "code",
   "execution_count": 363,
   "metadata": {},
   "outputs": [],
   "source": [
    "# Load the datasets\n",
    "movies_data = pd.read_csv(\"Data/movies.csv\")\n",
    "\n",
    "ratings_data = pd.read_csv(\"Data/ratings.csv\")\n",
    "\n",
    "links_data = pd.read_csv(\"Data/links.csv\")\n",
    "\n",
    "tags_data = pd.read_csv(\"Data/tags.csv\")"
   ]
  },
  {
   "cell_type": "code",
   "execution_count": 364,
   "metadata": {},
   "outputs": [
    {
     "data": {
      "text/html": [
       "<div>\n",
       "<style scoped>\n",
       "    .dataframe tbody tr th:only-of-type {\n",
       "        vertical-align: middle;\n",
       "    }\n",
       "\n",
       "    .dataframe tbody tr th {\n",
       "        vertical-align: top;\n",
       "    }\n",
       "\n",
       "    .dataframe thead th {\n",
       "        text-align: right;\n",
       "    }\n",
       "</style>\n",
       "<table border=\"1\" class=\"dataframe\">\n",
       "  <thead>\n",
       "    <tr style=\"text-align: right;\">\n",
       "      <th></th>\n",
       "      <th>movieId</th>\n",
       "      <th>title</th>\n",
       "      <th>genres</th>\n",
       "    </tr>\n",
       "  </thead>\n",
       "  <tbody>\n",
       "    <tr>\n",
       "      <th>0</th>\n",
       "      <td>1</td>\n",
       "      <td>Toy Story (1995)</td>\n",
       "      <td>Adventure|Animation|Children|Comedy|Fantasy</td>\n",
       "    </tr>\n",
       "    <tr>\n",
       "      <th>1</th>\n",
       "      <td>2</td>\n",
       "      <td>Jumanji (1995)</td>\n",
       "      <td>Adventure|Children|Fantasy</td>\n",
       "    </tr>\n",
       "    <tr>\n",
       "      <th>2</th>\n",
       "      <td>3</td>\n",
       "      <td>Grumpier Old Men (1995)</td>\n",
       "      <td>Comedy|Romance</td>\n",
       "    </tr>\n",
       "    <tr>\n",
       "      <th>3</th>\n",
       "      <td>4</td>\n",
       "      <td>Waiting to Exhale (1995)</td>\n",
       "      <td>Comedy|Drama|Romance</td>\n",
       "    </tr>\n",
       "    <tr>\n",
       "      <th>4</th>\n",
       "      <td>5</td>\n",
       "      <td>Father of the Bride Part II (1995)</td>\n",
       "      <td>Comedy</td>\n",
       "    </tr>\n",
       "  </tbody>\n",
       "</table>\n",
       "</div>"
      ],
      "text/plain": [
       "   movieId                               title  \\\n",
       "0        1                    Toy Story (1995)   \n",
       "1        2                      Jumanji (1995)   \n",
       "2        3             Grumpier Old Men (1995)   \n",
       "3        4            Waiting to Exhale (1995)   \n",
       "4        5  Father of the Bride Part II (1995)   \n",
       "\n",
       "                                        genres  \n",
       "0  Adventure|Animation|Children|Comedy|Fantasy  \n",
       "1                   Adventure|Children|Fantasy  \n",
       "2                               Comedy|Romance  \n",
       "3                         Comedy|Drama|Romance  \n",
       "4                                       Comedy  "
      ]
     },
     "execution_count": 364,
     "metadata": {},
     "output_type": "execute_result"
    }
   ],
   "source": [
    "# Explore movies data\n",
    "\n",
    "# view top 5 rows\n",
    "movies_data.head()"
   ]
  },
  {
   "cell_type": "markdown",
   "metadata": {},
   "source": [
    "*Observation*:\n",
    "\n",
    "- The title has the 'year' included at the end, it may require to be separated.\n",
    "\n",
    "- There are movies with more than 1 genre classification on the genres features. "
   ]
  },
  {
   "cell_type": "code",
   "execution_count": 365,
   "metadata": {},
   "outputs": [
    {
     "name": "stdout",
     "output_type": "stream",
     "text": [
      "<class 'pandas.core.frame.DataFrame'>\n",
      "RangeIndex: 9742 entries, 0 to 9741\n",
      "Data columns (total 3 columns):\n",
      " #   Column   Non-Null Count  Dtype \n",
      "---  ------   --------------  ----- \n",
      " 0   movieId  9742 non-null   int64 \n",
      " 1   title    9742 non-null   object\n",
      " 2   genres   9742 non-null   object\n",
      "dtypes: int64(1), object(2)\n",
      "memory usage: 228.5+ KB\n"
     ]
    }
   ],
   "source": [
    "# Get Summary info of the movies dataframe\n",
    "movies_data.info()"
   ]
  },
  {
   "cell_type": "markdown",
   "metadata": {},
   "source": [
    "*Observation*: All features have the right data type and it has no null values"
   ]
  },
  {
   "cell_type": "code",
   "execution_count": 366,
   "metadata": {},
   "outputs": [
    {
     "data": {
      "text/plain": [
       "(9742, 3)"
      ]
     },
     "execution_count": 366,
     "metadata": {},
     "output_type": "execute_result"
    }
   ],
   "source": [
    "# Check Shape\n",
    "movies_data.shape"
   ]
  },
  {
   "cell_type": "code",
   "execution_count": 367,
   "metadata": {},
   "outputs": [
    {
     "data": {
      "text/html": [
       "<div>\n",
       "<style scoped>\n",
       "    .dataframe tbody tr th:only-of-type {\n",
       "        vertical-align: middle;\n",
       "    }\n",
       "\n",
       "    .dataframe tbody tr th {\n",
       "        vertical-align: top;\n",
       "    }\n",
       "\n",
       "    .dataframe thead th {\n",
       "        text-align: right;\n",
       "    }\n",
       "</style>\n",
       "<table border=\"1\" class=\"dataframe\">\n",
       "  <thead>\n",
       "    <tr style=\"text-align: right;\">\n",
       "      <th></th>\n",
       "      <th>movieId</th>\n",
       "    </tr>\n",
       "  </thead>\n",
       "  <tbody>\n",
       "    <tr>\n",
       "      <th>count</th>\n",
       "      <td>9742.000000</td>\n",
       "    </tr>\n",
       "    <tr>\n",
       "      <th>mean</th>\n",
       "      <td>42200.353623</td>\n",
       "    </tr>\n",
       "    <tr>\n",
       "      <th>std</th>\n",
       "      <td>52160.494854</td>\n",
       "    </tr>\n",
       "    <tr>\n",
       "      <th>min</th>\n",
       "      <td>1.000000</td>\n",
       "    </tr>\n",
       "    <tr>\n",
       "      <th>25%</th>\n",
       "      <td>3248.250000</td>\n",
       "    </tr>\n",
       "    <tr>\n",
       "      <th>50%</th>\n",
       "      <td>7300.000000</td>\n",
       "    </tr>\n",
       "    <tr>\n",
       "      <th>75%</th>\n",
       "      <td>76232.000000</td>\n",
       "    </tr>\n",
       "    <tr>\n",
       "      <th>max</th>\n",
       "      <td>193609.000000</td>\n",
       "    </tr>\n",
       "  </tbody>\n",
       "</table>\n",
       "</div>"
      ],
      "text/plain": [
       "             movieId\n",
       "count    9742.000000\n",
       "mean    42200.353623\n",
       "std     52160.494854\n",
       "min         1.000000\n",
       "25%      3248.250000\n",
       "50%      7300.000000\n",
       "75%     76232.000000\n",
       "max    193609.000000"
      ]
     },
     "execution_count": 367,
     "metadata": {},
     "output_type": "execute_result"
    }
   ],
   "source": [
    "# Get summary statistics of movies data\n",
    "movies_data.describe()"
   ]
  },
  {
   "cell_type": "markdown",
   "metadata": {},
   "source": [
    "Understand ratings data"
   ]
  },
  {
   "cell_type": "code",
   "execution_count": 368,
   "metadata": {},
   "outputs": [
    {
     "data": {
      "text/html": [
       "<div>\n",
       "<style scoped>\n",
       "    .dataframe tbody tr th:only-of-type {\n",
       "        vertical-align: middle;\n",
       "    }\n",
       "\n",
       "    .dataframe tbody tr th {\n",
       "        vertical-align: top;\n",
       "    }\n",
       "\n",
       "    .dataframe thead th {\n",
       "        text-align: right;\n",
       "    }\n",
       "</style>\n",
       "<table border=\"1\" class=\"dataframe\">\n",
       "  <thead>\n",
       "    <tr style=\"text-align: right;\">\n",
       "      <th></th>\n",
       "      <th>userId</th>\n",
       "      <th>movieId</th>\n",
       "      <th>rating</th>\n",
       "      <th>timestamp</th>\n",
       "    </tr>\n",
       "  </thead>\n",
       "  <tbody>\n",
       "    <tr>\n",
       "      <th>0</th>\n",
       "      <td>1</td>\n",
       "      <td>1</td>\n",
       "      <td>4.0</td>\n",
       "      <td>964982703</td>\n",
       "    </tr>\n",
       "    <tr>\n",
       "      <th>1</th>\n",
       "      <td>1</td>\n",
       "      <td>3</td>\n",
       "      <td>4.0</td>\n",
       "      <td>964981247</td>\n",
       "    </tr>\n",
       "    <tr>\n",
       "      <th>2</th>\n",
       "      <td>1</td>\n",
       "      <td>6</td>\n",
       "      <td>4.0</td>\n",
       "      <td>964982224</td>\n",
       "    </tr>\n",
       "    <tr>\n",
       "      <th>3</th>\n",
       "      <td>1</td>\n",
       "      <td>47</td>\n",
       "      <td>5.0</td>\n",
       "      <td>964983815</td>\n",
       "    </tr>\n",
       "    <tr>\n",
       "      <th>4</th>\n",
       "      <td>1</td>\n",
       "      <td>50</td>\n",
       "      <td>5.0</td>\n",
       "      <td>964982931</td>\n",
       "    </tr>\n",
       "  </tbody>\n",
       "</table>\n",
       "</div>"
      ],
      "text/plain": [
       "   userId  movieId  rating  timestamp\n",
       "0       1        1     4.0  964982703\n",
       "1       1        3     4.0  964981247\n",
       "2       1        6     4.0  964982224\n",
       "3       1       47     5.0  964983815\n",
       "4       1       50     5.0  964982931"
      ]
     },
     "execution_count": 368,
     "metadata": {},
     "output_type": "execute_result"
    }
   ],
   "source": [
    "# view top 5 rows\n",
    "ratings_data.head()"
   ]
  },
  {
   "cell_type": "markdown",
   "metadata": {},
   "source": [
    "*Comment*:\n",
    "\n",
    "The timestamp features may be converted to datetime where need be such as helping to observe trends"
   ]
  },
  {
   "cell_type": "code",
   "execution_count": 369,
   "metadata": {},
   "outputs": [
    {
     "name": "stdout",
     "output_type": "stream",
     "text": [
      "<class 'pandas.core.frame.DataFrame'>\n",
      "RangeIndex: 100836 entries, 0 to 100835\n",
      "Data columns (total 4 columns):\n",
      " #   Column     Non-Null Count   Dtype  \n",
      "---  ------     --------------   -----  \n",
      " 0   userId     100836 non-null  int64  \n",
      " 1   movieId    100836 non-null  int64  \n",
      " 2   rating     100836 non-null  float64\n",
      " 3   timestamp  100836 non-null  int64  \n",
      "dtypes: float64(1), int64(3)\n",
      "memory usage: 3.1 MB\n"
     ]
    }
   ],
   "source": [
    "# Get Summary info of the ratings dataframe\n",
    "ratings_data.info()"
   ]
  },
  {
   "cell_type": "markdown",
   "metadata": {},
   "source": [
    "*Observation*: All features have the right data type and it has no null values"
   ]
  },
  {
   "cell_type": "code",
   "execution_count": 370,
   "metadata": {},
   "outputs": [
    {
     "data": {
      "text/html": [
       "<div>\n",
       "<style scoped>\n",
       "    .dataframe tbody tr th:only-of-type {\n",
       "        vertical-align: middle;\n",
       "    }\n",
       "\n",
       "    .dataframe tbody tr th {\n",
       "        vertical-align: top;\n",
       "    }\n",
       "\n",
       "    .dataframe thead th {\n",
       "        text-align: right;\n",
       "    }\n",
       "</style>\n",
       "<table border=\"1\" class=\"dataframe\">\n",
       "  <thead>\n",
       "    <tr style=\"text-align: right;\">\n",
       "      <th></th>\n",
       "      <th>userId</th>\n",
       "      <th>movieId</th>\n",
       "      <th>rating</th>\n",
       "      <th>timestamp</th>\n",
       "    </tr>\n",
       "  </thead>\n",
       "  <tbody>\n",
       "    <tr>\n",
       "      <th>count</th>\n",
       "      <td>100836.000000</td>\n",
       "      <td>100836.000000</td>\n",
       "      <td>100836.000000</td>\n",
       "      <td>1.008360e+05</td>\n",
       "    </tr>\n",
       "    <tr>\n",
       "      <th>mean</th>\n",
       "      <td>326.127564</td>\n",
       "      <td>19435.295718</td>\n",
       "      <td>3.501557</td>\n",
       "      <td>1.205946e+09</td>\n",
       "    </tr>\n",
       "    <tr>\n",
       "      <th>std</th>\n",
       "      <td>182.618491</td>\n",
       "      <td>35530.987199</td>\n",
       "      <td>1.042529</td>\n",
       "      <td>2.162610e+08</td>\n",
       "    </tr>\n",
       "    <tr>\n",
       "      <th>min</th>\n",
       "      <td>1.000000</td>\n",
       "      <td>1.000000</td>\n",
       "      <td>0.500000</td>\n",
       "      <td>8.281246e+08</td>\n",
       "    </tr>\n",
       "    <tr>\n",
       "      <th>25%</th>\n",
       "      <td>177.000000</td>\n",
       "      <td>1199.000000</td>\n",
       "      <td>3.000000</td>\n",
       "      <td>1.019124e+09</td>\n",
       "    </tr>\n",
       "    <tr>\n",
       "      <th>50%</th>\n",
       "      <td>325.000000</td>\n",
       "      <td>2991.000000</td>\n",
       "      <td>3.500000</td>\n",
       "      <td>1.186087e+09</td>\n",
       "    </tr>\n",
       "    <tr>\n",
       "      <th>75%</th>\n",
       "      <td>477.000000</td>\n",
       "      <td>8122.000000</td>\n",
       "      <td>4.000000</td>\n",
       "      <td>1.435994e+09</td>\n",
       "    </tr>\n",
       "    <tr>\n",
       "      <th>max</th>\n",
       "      <td>610.000000</td>\n",
       "      <td>193609.000000</td>\n",
       "      <td>5.000000</td>\n",
       "      <td>1.537799e+09</td>\n",
       "    </tr>\n",
       "  </tbody>\n",
       "</table>\n",
       "</div>"
      ],
      "text/plain": [
       "              userId        movieId         rating     timestamp\n",
       "count  100836.000000  100836.000000  100836.000000  1.008360e+05\n",
       "mean      326.127564   19435.295718       3.501557  1.205946e+09\n",
       "std       182.618491   35530.987199       1.042529  2.162610e+08\n",
       "min         1.000000       1.000000       0.500000  8.281246e+08\n",
       "25%       177.000000    1199.000000       3.000000  1.019124e+09\n",
       "50%       325.000000    2991.000000       3.500000  1.186087e+09\n",
       "75%       477.000000    8122.000000       4.000000  1.435994e+09\n",
       "max       610.000000  193609.000000       5.000000  1.537799e+09"
      ]
     },
     "execution_count": 370,
     "metadata": {},
     "output_type": "execute_result"
    }
   ],
   "source": [
    "# Get summary statistics of ratings data\n",
    "ratings_data.describe()"
   ]
  },
  {
   "cell_type": "markdown",
   "metadata": {},
   "source": [
    "understand links data:"
   ]
  },
  {
   "cell_type": "code",
   "execution_count": 371,
   "metadata": {},
   "outputs": [
    {
     "data": {
      "text/html": [
       "<div>\n",
       "<style scoped>\n",
       "    .dataframe tbody tr th:only-of-type {\n",
       "        vertical-align: middle;\n",
       "    }\n",
       "\n",
       "    .dataframe tbody tr th {\n",
       "        vertical-align: top;\n",
       "    }\n",
       "\n",
       "    .dataframe thead th {\n",
       "        text-align: right;\n",
       "    }\n",
       "</style>\n",
       "<table border=\"1\" class=\"dataframe\">\n",
       "  <thead>\n",
       "    <tr style=\"text-align: right;\">\n",
       "      <th></th>\n",
       "      <th>movieId</th>\n",
       "      <th>imdbId</th>\n",
       "      <th>tmdbId</th>\n",
       "    </tr>\n",
       "  </thead>\n",
       "  <tbody>\n",
       "    <tr>\n",
       "      <th>0</th>\n",
       "      <td>1</td>\n",
       "      <td>114709</td>\n",
       "      <td>862.0</td>\n",
       "    </tr>\n",
       "    <tr>\n",
       "      <th>1</th>\n",
       "      <td>2</td>\n",
       "      <td>113497</td>\n",
       "      <td>8844.0</td>\n",
       "    </tr>\n",
       "    <tr>\n",
       "      <th>2</th>\n",
       "      <td>3</td>\n",
       "      <td>113228</td>\n",
       "      <td>15602.0</td>\n",
       "    </tr>\n",
       "    <tr>\n",
       "      <th>3</th>\n",
       "      <td>4</td>\n",
       "      <td>114885</td>\n",
       "      <td>31357.0</td>\n",
       "    </tr>\n",
       "    <tr>\n",
       "      <th>4</th>\n",
       "      <td>5</td>\n",
       "      <td>113041</td>\n",
       "      <td>11862.0</td>\n",
       "    </tr>\n",
       "  </tbody>\n",
       "</table>\n",
       "</div>"
      ],
      "text/plain": [
       "   movieId  imdbId   tmdbId\n",
       "0        1  114709    862.0\n",
       "1        2  113497   8844.0\n",
       "2        3  113228  15602.0\n",
       "3        4  114885  31357.0\n",
       "4        5  113041  11862.0"
      ]
     },
     "execution_count": 371,
     "metadata": {},
     "output_type": "execute_result"
    }
   ],
   "source": [
    "# view top 5 rows\n",
    "links_data.head()"
   ]
  },
  {
   "cell_type": "code",
   "execution_count": 372,
   "metadata": {},
   "outputs": [
    {
     "name": "stdout",
     "output_type": "stream",
     "text": [
      "<class 'pandas.core.frame.DataFrame'>\n",
      "RangeIndex: 9742 entries, 0 to 9741\n",
      "Data columns (total 3 columns):\n",
      " #   Column   Non-Null Count  Dtype  \n",
      "---  ------   --------------  -----  \n",
      " 0   movieId  9742 non-null   int64  \n",
      " 1   imdbId   9742 non-null   int64  \n",
      " 2   tmdbId   9734 non-null   float64\n",
      "dtypes: float64(1), int64(2)\n",
      "memory usage: 228.5 KB\n"
     ]
    }
   ],
   "source": [
    "# Get Summary info of the links dataframe\n",
    "links_data.info()"
   ]
  },
  {
   "cell_type": "markdown",
   "metadata": {},
   "source": [
    "*Observation*: All features have the right data type and it has $8$ null values"
   ]
  },
  {
   "cell_type": "code",
   "execution_count": 373,
   "metadata": {},
   "outputs": [
    {
     "data": {
      "text/html": [
       "<div>\n",
       "<style scoped>\n",
       "    .dataframe tbody tr th:only-of-type {\n",
       "        vertical-align: middle;\n",
       "    }\n",
       "\n",
       "    .dataframe tbody tr th {\n",
       "        vertical-align: top;\n",
       "    }\n",
       "\n",
       "    .dataframe thead th {\n",
       "        text-align: right;\n",
       "    }\n",
       "</style>\n",
       "<table border=\"1\" class=\"dataframe\">\n",
       "  <thead>\n",
       "    <tr style=\"text-align: right;\">\n",
       "      <th></th>\n",
       "      <th>movieId</th>\n",
       "      <th>imdbId</th>\n",
       "      <th>tmdbId</th>\n",
       "    </tr>\n",
       "  </thead>\n",
       "  <tbody>\n",
       "    <tr>\n",
       "      <th>count</th>\n",
       "      <td>9742.000000</td>\n",
       "      <td>9.742000e+03</td>\n",
       "      <td>9734.000000</td>\n",
       "    </tr>\n",
       "    <tr>\n",
       "      <th>mean</th>\n",
       "      <td>42200.353623</td>\n",
       "      <td>6.771839e+05</td>\n",
       "      <td>55162.123793</td>\n",
       "    </tr>\n",
       "    <tr>\n",
       "      <th>std</th>\n",
       "      <td>52160.494854</td>\n",
       "      <td>1.107228e+06</td>\n",
       "      <td>93653.481487</td>\n",
       "    </tr>\n",
       "    <tr>\n",
       "      <th>min</th>\n",
       "      <td>1.000000</td>\n",
       "      <td>4.170000e+02</td>\n",
       "      <td>2.000000</td>\n",
       "    </tr>\n",
       "    <tr>\n",
       "      <th>25%</th>\n",
       "      <td>3248.250000</td>\n",
       "      <td>9.518075e+04</td>\n",
       "      <td>9665.500000</td>\n",
       "    </tr>\n",
       "    <tr>\n",
       "      <th>50%</th>\n",
       "      <td>7300.000000</td>\n",
       "      <td>1.672605e+05</td>\n",
       "      <td>16529.000000</td>\n",
       "    </tr>\n",
       "    <tr>\n",
       "      <th>75%</th>\n",
       "      <td>76232.000000</td>\n",
       "      <td>8.055685e+05</td>\n",
       "      <td>44205.750000</td>\n",
       "    </tr>\n",
       "    <tr>\n",
       "      <th>max</th>\n",
       "      <td>193609.000000</td>\n",
       "      <td>8.391976e+06</td>\n",
       "      <td>525662.000000</td>\n",
       "    </tr>\n",
       "  </tbody>\n",
       "</table>\n",
       "</div>"
      ],
      "text/plain": [
       "             movieId        imdbId         tmdbId\n",
       "count    9742.000000  9.742000e+03    9734.000000\n",
       "mean    42200.353623  6.771839e+05   55162.123793\n",
       "std     52160.494854  1.107228e+06   93653.481487\n",
       "min         1.000000  4.170000e+02       2.000000\n",
       "25%      3248.250000  9.518075e+04    9665.500000\n",
       "50%      7300.000000  1.672605e+05   16529.000000\n",
       "75%     76232.000000  8.055685e+05   44205.750000\n",
       "max    193609.000000  8.391976e+06  525662.000000"
      ]
     },
     "execution_count": 373,
     "metadata": {},
     "output_type": "execute_result"
    }
   ],
   "source": [
    "# Get summary statistics of links data\n",
    "links_data.describe()"
   ]
  },
  {
   "cell_type": "markdown",
   "metadata": {},
   "source": [
    "Understand tags data:"
   ]
  },
  {
   "cell_type": "code",
   "execution_count": 374,
   "metadata": {},
   "outputs": [
    {
     "data": {
      "text/html": [
       "<div>\n",
       "<style scoped>\n",
       "    .dataframe tbody tr th:only-of-type {\n",
       "        vertical-align: middle;\n",
       "    }\n",
       "\n",
       "    .dataframe tbody tr th {\n",
       "        vertical-align: top;\n",
       "    }\n",
       "\n",
       "    .dataframe thead th {\n",
       "        text-align: right;\n",
       "    }\n",
       "</style>\n",
       "<table border=\"1\" class=\"dataframe\">\n",
       "  <thead>\n",
       "    <tr style=\"text-align: right;\">\n",
       "      <th></th>\n",
       "      <th>userId</th>\n",
       "      <th>movieId</th>\n",
       "      <th>tag</th>\n",
       "      <th>timestamp</th>\n",
       "    </tr>\n",
       "  </thead>\n",
       "  <tbody>\n",
       "    <tr>\n",
       "      <th>0</th>\n",
       "      <td>2</td>\n",
       "      <td>60756</td>\n",
       "      <td>funny</td>\n",
       "      <td>1445714994</td>\n",
       "    </tr>\n",
       "    <tr>\n",
       "      <th>1</th>\n",
       "      <td>2</td>\n",
       "      <td>60756</td>\n",
       "      <td>Highly quotable</td>\n",
       "      <td>1445714996</td>\n",
       "    </tr>\n",
       "    <tr>\n",
       "      <th>2</th>\n",
       "      <td>2</td>\n",
       "      <td>60756</td>\n",
       "      <td>will ferrell</td>\n",
       "      <td>1445714992</td>\n",
       "    </tr>\n",
       "    <tr>\n",
       "      <th>3</th>\n",
       "      <td>2</td>\n",
       "      <td>89774</td>\n",
       "      <td>Boxing story</td>\n",
       "      <td>1445715207</td>\n",
       "    </tr>\n",
       "    <tr>\n",
       "      <th>4</th>\n",
       "      <td>2</td>\n",
       "      <td>89774</td>\n",
       "      <td>MMA</td>\n",
       "      <td>1445715200</td>\n",
       "    </tr>\n",
       "  </tbody>\n",
       "</table>\n",
       "</div>"
      ],
      "text/plain": [
       "   userId  movieId              tag   timestamp\n",
       "0       2    60756            funny  1445714994\n",
       "1       2    60756  Highly quotable  1445714996\n",
       "2       2    60756     will ferrell  1445714992\n",
       "3       2    89774     Boxing story  1445715207\n",
       "4       2    89774              MMA  1445715200"
      ]
     },
     "execution_count": 374,
     "metadata": {},
     "output_type": "execute_result"
    }
   ],
   "source": [
    "# view top 5 rows\n",
    "tags_data.head()"
   ]
  },
  {
   "cell_type": "markdown",
   "metadata": {},
   "source": [
    "*Comment*:\n",
    "The timestamp features may be converted to datetime where need be such as helping to observe trends"
   ]
  },
  {
   "cell_type": "code",
   "execution_count": 375,
   "metadata": {},
   "outputs": [
    {
     "name": "stdout",
     "output_type": "stream",
     "text": [
      "<class 'pandas.core.frame.DataFrame'>\n",
      "RangeIndex: 3683 entries, 0 to 3682\n",
      "Data columns (total 4 columns):\n",
      " #   Column     Non-Null Count  Dtype \n",
      "---  ------     --------------  ----- \n",
      " 0   userId     3683 non-null   int64 \n",
      " 1   movieId    3683 non-null   int64 \n",
      " 2   tag        3683 non-null   object\n",
      " 3   timestamp  3683 non-null   int64 \n",
      "dtypes: int64(3), object(1)\n",
      "memory usage: 115.2+ KB\n"
     ]
    }
   ],
   "source": [
    "# Get Summary info of the tags dataframe\n",
    "tags_data.info()"
   ]
  },
  {
   "cell_type": "markdown",
   "metadata": {},
   "source": [
    "*Observation*: All features have the right data type and it has no null values"
   ]
  },
  {
   "cell_type": "code",
   "execution_count": 376,
   "metadata": {},
   "outputs": [
    {
     "data": {
      "text/html": [
       "<div>\n",
       "<style scoped>\n",
       "    .dataframe tbody tr th:only-of-type {\n",
       "        vertical-align: middle;\n",
       "    }\n",
       "\n",
       "    .dataframe tbody tr th {\n",
       "        vertical-align: top;\n",
       "    }\n",
       "\n",
       "    .dataframe thead th {\n",
       "        text-align: right;\n",
       "    }\n",
       "</style>\n",
       "<table border=\"1\" class=\"dataframe\">\n",
       "  <thead>\n",
       "    <tr style=\"text-align: right;\">\n",
       "      <th></th>\n",
       "      <th>userId</th>\n",
       "      <th>movieId</th>\n",
       "      <th>timestamp</th>\n",
       "    </tr>\n",
       "  </thead>\n",
       "  <tbody>\n",
       "    <tr>\n",
       "      <th>count</th>\n",
       "      <td>3683.000000</td>\n",
       "      <td>3683.000000</td>\n",
       "      <td>3.683000e+03</td>\n",
       "    </tr>\n",
       "    <tr>\n",
       "      <th>mean</th>\n",
       "      <td>431.149335</td>\n",
       "      <td>27252.013576</td>\n",
       "      <td>1.320032e+09</td>\n",
       "    </tr>\n",
       "    <tr>\n",
       "      <th>std</th>\n",
       "      <td>158.472553</td>\n",
       "      <td>43490.558803</td>\n",
       "      <td>1.721025e+08</td>\n",
       "    </tr>\n",
       "    <tr>\n",
       "      <th>min</th>\n",
       "      <td>2.000000</td>\n",
       "      <td>1.000000</td>\n",
       "      <td>1.137179e+09</td>\n",
       "    </tr>\n",
       "    <tr>\n",
       "      <th>25%</th>\n",
       "      <td>424.000000</td>\n",
       "      <td>1262.500000</td>\n",
       "      <td>1.137521e+09</td>\n",
       "    </tr>\n",
       "    <tr>\n",
       "      <th>50%</th>\n",
       "      <td>474.000000</td>\n",
       "      <td>4454.000000</td>\n",
       "      <td>1.269833e+09</td>\n",
       "    </tr>\n",
       "    <tr>\n",
       "      <th>75%</th>\n",
       "      <td>477.000000</td>\n",
       "      <td>39263.000000</td>\n",
       "      <td>1.498457e+09</td>\n",
       "    </tr>\n",
       "    <tr>\n",
       "      <th>max</th>\n",
       "      <td>610.000000</td>\n",
       "      <td>193565.000000</td>\n",
       "      <td>1.537099e+09</td>\n",
       "    </tr>\n",
       "  </tbody>\n",
       "</table>\n",
       "</div>"
      ],
      "text/plain": [
       "            userId        movieId     timestamp\n",
       "count  3683.000000    3683.000000  3.683000e+03\n",
       "mean    431.149335   27252.013576  1.320032e+09\n",
       "std     158.472553   43490.558803  1.721025e+08\n",
       "min       2.000000       1.000000  1.137179e+09\n",
       "25%     424.000000    1262.500000  1.137521e+09\n",
       "50%     474.000000    4454.000000  1.269833e+09\n",
       "75%     477.000000   39263.000000  1.498457e+09\n",
       "max     610.000000  193565.000000  1.537099e+09"
      ]
     },
     "execution_count": 376,
     "metadata": {},
     "output_type": "execute_result"
    }
   ],
   "source": [
    "# Get summary statistics of tags data\n",
    "tags_data.describe()"
   ]
  },
  {
   "cell_type": "markdown",
   "metadata": {},
   "source": [
    "# 3 Data Preparation\n",
    "This involves activities such us handling missing values, checking for duplicates, dropping unnecessary columns, etc."
   ]
  },
  {
   "cell_type": "markdown",
   "metadata": {},
   "source": [
    "## 3.1 Data Cleaning\n"
   ]
  },
  {
   "cell_type": "markdown",
   "metadata": {},
   "source": [
    "### 3.1.1 Handling Missing Values"
   ]
  },
  {
   "cell_type": "code",
   "execution_count": 377,
   "metadata": {},
   "outputs": [
    {
     "data": {
      "text/plain": [
       "movieId    0\n",
       "title      0\n",
       "genres     0\n",
       "dtype: int64"
      ]
     },
     "execution_count": 377,
     "metadata": {},
     "output_type": "execute_result"
    }
   ],
   "source": [
    "# Check movies data for null values\n",
    "movies_data.isnull().sum()"
   ]
  },
  {
   "cell_type": "code",
   "execution_count": 378,
   "metadata": {},
   "outputs": [
    {
     "data": {
      "text/plain": [
       "userId       0\n",
       "movieId      0\n",
       "rating       0\n",
       "timestamp    0\n",
       "dtype: int64"
      ]
     },
     "execution_count": 378,
     "metadata": {},
     "output_type": "execute_result"
    }
   ],
   "source": [
    "# Check ratings data for null values\n",
    "ratings_data.isnull().sum()"
   ]
  },
  {
   "cell_type": "code",
   "execution_count": 379,
   "metadata": {},
   "outputs": [
    {
     "data": {
      "text/plain": [
       "userId       0\n",
       "movieId      0\n",
       "tag          0\n",
       "timestamp    0\n",
       "dtype: int64"
      ]
     },
     "execution_count": 379,
     "metadata": {},
     "output_type": "execute_result"
    }
   ],
   "source": [
    "# Check tags data for null values\n",
    "tags_data.isnull().sum()"
   ]
  },
  {
   "cell_type": "code",
   "execution_count": 380,
   "metadata": {},
   "outputs": [
    {
     "data": {
      "text/plain": [
       "movieId    0\n",
       "imdbId     0\n",
       "tmdbId     8\n",
       "dtype: int64"
      ]
     },
     "execution_count": 380,
     "metadata": {},
     "output_type": "execute_result"
    }
   ],
   "source": [
    "# Check links data for null values\n",
    "links_data.isna().sum()\n"
   ]
  },
  {
   "cell_type": "markdown",
   "metadata": {},
   "source": [
    "Links data has missing values. Let us see the rows with the missing values since they are few."
   ]
  },
  {
   "cell_type": "code",
   "execution_count": 381,
   "metadata": {},
   "outputs": [
    {
     "data": {
      "text/html": [
       "<div>\n",
       "<style scoped>\n",
       "    .dataframe tbody tr th:only-of-type {\n",
       "        vertical-align: middle;\n",
       "    }\n",
       "\n",
       "    .dataframe tbody tr th {\n",
       "        vertical-align: top;\n",
       "    }\n",
       "\n",
       "    .dataframe thead th {\n",
       "        text-align: right;\n",
       "    }\n",
       "</style>\n",
       "<table border=\"1\" class=\"dataframe\">\n",
       "  <thead>\n",
       "    <tr style=\"text-align: right;\">\n",
       "      <th></th>\n",
       "      <th>movieId</th>\n",
       "      <th>imdbId</th>\n",
       "      <th>tmdbId</th>\n",
       "    </tr>\n",
       "  </thead>\n",
       "  <tbody>\n",
       "    <tr>\n",
       "      <th>624</th>\n",
       "      <td>791</td>\n",
       "      <td>113610</td>\n",
       "      <td>NaN</td>\n",
       "    </tr>\n",
       "    <tr>\n",
       "      <th>843</th>\n",
       "      <td>1107</td>\n",
       "      <td>102336</td>\n",
       "      <td>NaN</td>\n",
       "    </tr>\n",
       "    <tr>\n",
       "      <th>2141</th>\n",
       "      <td>2851</td>\n",
       "      <td>81454</td>\n",
       "      <td>NaN</td>\n",
       "    </tr>\n",
       "    <tr>\n",
       "      <th>3027</th>\n",
       "      <td>4051</td>\n",
       "      <td>56600</td>\n",
       "      <td>NaN</td>\n",
       "    </tr>\n",
       "    <tr>\n",
       "      <th>5532</th>\n",
       "      <td>26587</td>\n",
       "      <td>92337</td>\n",
       "      <td>NaN</td>\n",
       "    </tr>\n",
       "    <tr>\n",
       "      <th>5854</th>\n",
       "      <td>32600</td>\n",
       "      <td>377059</td>\n",
       "      <td>NaN</td>\n",
       "    </tr>\n",
       "    <tr>\n",
       "      <th>6059</th>\n",
       "      <td>40697</td>\n",
       "      <td>105946</td>\n",
       "      <td>NaN</td>\n",
       "    </tr>\n",
       "    <tr>\n",
       "      <th>7382</th>\n",
       "      <td>79299</td>\n",
       "      <td>874957</td>\n",
       "      <td>NaN</td>\n",
       "    </tr>\n",
       "  </tbody>\n",
       "</table>\n",
       "</div>"
      ],
      "text/plain": [
       "      movieId  imdbId  tmdbId\n",
       "624       791  113610     NaN\n",
       "843      1107  102336     NaN\n",
       "2141     2851   81454     NaN\n",
       "3027     4051   56600     NaN\n",
       "5532    26587   92337     NaN\n",
       "5854    32600  377059     NaN\n",
       "6059    40697  105946     NaN\n",
       "7382    79299  874957     NaN"
      ]
     },
     "execution_count": 381,
     "metadata": {},
     "output_type": "execute_result"
    }
   ],
   "source": [
    "# List the rows with nulls\n",
    "links_data[links_data['tmdbId'].isnull()]"
   ]
  },
  {
   "cell_type": "markdown",
   "metadata": {},
   "source": [
    "The links data had $8$ missing values. Let's check\n",
    "\n",
    "Since we dont have the exact tmdbId of the movies with null values, we can then replace the nulls with a '0'."
   ]
  },
  {
   "cell_type": "code",
   "execution_count": 382,
   "metadata": {},
   "outputs": [],
   "source": [
    "# Replace nulls with a '0'\n",
    "links_data.fillna(0, inplace=True)"
   ]
  },
  {
   "cell_type": "code",
   "execution_count": 383,
   "metadata": {},
   "outputs": [
    {
     "data": {
      "text/plain": [
       "movieId    0\n",
       "imdbId     0\n",
       "tmdbId     0\n",
       "dtype: int64"
      ]
     },
     "execution_count": 383,
     "metadata": {},
     "output_type": "execute_result"
    }
   ],
   "source": [
    "# Check nulls\n",
    "links_data.isna().sum()"
   ]
  },
  {
   "cell_type": "markdown",
   "metadata": {},
   "source": [
    "\n",
    "### 3.1.2 Duplicate Values\n"
   ]
  },
  {
   "cell_type": "markdown",
   "metadata": {},
   "source": [
    "Let us che the datasets for duplicate values."
   ]
  },
  {
   "cell_type": "code",
   "execution_count": 384,
   "metadata": {},
   "outputs": [
    {
     "data": {
      "text/plain": [
       "0"
      ]
     },
     "execution_count": 384,
     "metadata": {},
     "output_type": "execute_result"
    }
   ],
   "source": [
    "# Check duplicates\n",
    "movies_data.duplicated().sum()"
   ]
  },
  {
   "cell_type": "code",
   "execution_count": 385,
   "metadata": {},
   "outputs": [
    {
     "data": {
      "text/plain": [
       "0"
      ]
     },
     "execution_count": 385,
     "metadata": {},
     "output_type": "execute_result"
    }
   ],
   "source": [
    "# Check duplicates\n",
    "ratings_data.duplicated().sum()"
   ]
  },
  {
   "cell_type": "code",
   "execution_count": 386,
   "metadata": {},
   "outputs": [
    {
     "data": {
      "text/plain": [
       "0"
      ]
     },
     "execution_count": 386,
     "metadata": {},
     "output_type": "execute_result"
    }
   ],
   "source": [
    "# Check duplicates\n",
    "tags_data.duplicated().sum()"
   ]
  },
  {
   "cell_type": "code",
   "execution_count": 387,
   "metadata": {},
   "outputs": [
    {
     "data": {
      "text/plain": [
       "0"
      ]
     },
     "execution_count": 387,
     "metadata": {},
     "output_type": "execute_result"
    }
   ],
   "source": [
    "# Check duplicates\n",
    "links_data.duplicated().sum()"
   ]
  },
  {
   "cell_type": "markdown",
   "metadata": {},
   "source": [
    "*Comment*:\n",
    "\n",
    "No duplicates in all the datasets"
   ]
  },
  {
   "cell_type": "markdown",
   "metadata": {},
   "source": [
    "### 3.1.3 Column Editing\n",
    "We can drop columns that will not be of use as of now. This will include the timestamp, imdbId & tmdbId columns\n"
   ]
  },
  {
   "cell_type": "markdown",
   "metadata": {},
   "source": [
    "We can now merge the data to have one dataset to explore."
   ]
  },
  {
   "cell_type": "markdown",
   "metadata": {},
   "source": [
    "### 3.1.4 Merging the datasets and handling missing values & duplicates"
   ]
  },
  {
   "cell_type": "code",
   "execution_count": 388,
   "metadata": {},
   "outputs": [
    {
     "name": "stdout",
     "output_type": "stream",
     "text": [
      "<class 'pandas.core.frame.DataFrame'>\n",
      "Int64Index: 100836 entries, 0 to 100835\n",
      "Data columns (total 6 columns):\n",
      " #   Column     Non-Null Count   Dtype  \n",
      "---  ------     --------------   -----  \n",
      " 0   userId     100836 non-null  int64  \n",
      " 1   movieId    100836 non-null  int64  \n",
      " 2   rating     100836 non-null  float64\n",
      " 3   timestamp  100836 non-null  int64  \n",
      " 4   title      100836 non-null  object \n",
      " 5   genres     100836 non-null  object \n",
      "dtypes: float64(1), int64(3), object(2)\n",
      "memory usage: 5.4+ MB\n"
     ]
    }
   ],
   "source": [
    "# Merge ratings with movie titles\n",
    "merged_df = ratings_data.merge(movies_data, on=\"movieId\", how=\"left\")\n",
    "merged_df.info()"
   ]
  },
  {
   "cell_type": "code",
   "execution_count": 389,
   "metadata": {},
   "outputs": [
    {
     "name": "stdout",
     "output_type": "stream",
     "text": [
      "<class 'pandas.core.frame.DataFrame'>\n",
      "Int64Index: 102677 entries, 0 to 102676\n",
      "Data columns (total 7 columns):\n",
      " #   Column     Non-Null Count   Dtype  \n",
      "---  ------     --------------   -----  \n",
      " 0   userId     102677 non-null  int64  \n",
      " 1   movieId    102677 non-null  int64  \n",
      " 2   rating     102677 non-null  float64\n",
      " 3   timestamp  102677 non-null  int64  \n",
      " 4   title      102677 non-null  object \n",
      " 5   genres     102677 non-null  object \n",
      " 6   tag        3476 non-null    object \n",
      "dtypes: float64(1), int64(3), object(3)\n",
      "memory usage: 6.3+ MB\n"
     ]
    }
   ],
   "source": [
    "# Merge with the tags data\n",
    "merged_df = merged_df.merge(tags_data[['userId', 'movieId', 'tag']], on=[\"userId\", \"movieId\"], how=\"left\")\n",
    "merged_df.info()"
   ]
  },
  {
   "cell_type": "markdown",
   "metadata": {},
   "source": [
    "*Observation:*\n",
    "The tag column has null values"
   ]
  },
  {
   "cell_type": "code",
   "execution_count": 390,
   "metadata": {},
   "outputs": [
    {
     "data": {
      "text/plain": [
       "userId           0\n",
       "movieId          0\n",
       "rating           0\n",
       "timestamp        0\n",
       "title            0\n",
       "genres           0\n",
       "tag          99201\n",
       "dtype: int64"
      ]
     },
     "execution_count": 390,
     "metadata": {},
     "output_type": "execute_result"
    }
   ],
   "source": [
    "# Check null values\n",
    "merged_df.isnull().sum()"
   ]
  },
  {
   "cell_type": "markdown",
   "metadata": {},
   "source": [
    "The merged data has 99,201 values missing on the tags column. The dtype is object (string).\n",
    "\n",
    "We can then handle the null values by replacing 'null' by 'Unknown'"
   ]
  },
  {
   "cell_type": "code",
   "execution_count": 391,
   "metadata": {},
   "outputs": [],
   "source": [
    "# Replace nulls\n",
    "merged_df.fillna(\"Unknown\", inplace=True)"
   ]
  },
  {
   "cell_type": "code",
   "execution_count": 392,
   "metadata": {},
   "outputs": [
    {
     "data": {
      "text/plain": [
       "userId       0\n",
       "movieId      0\n",
       "rating       0\n",
       "timestamp    0\n",
       "title        0\n",
       "genres       0\n",
       "tag          0\n",
       "dtype: int64"
      ]
     },
     "execution_count": 392,
     "metadata": {},
     "output_type": "execute_result"
    }
   ],
   "source": [
    "# Recheck nulls\n",
    "merged_df.isna().sum()"
   ]
  },
  {
   "cell_type": "code",
   "execution_count": 393,
   "metadata": {},
   "outputs": [
    {
     "data": {
      "text/plain": [
       "0"
      ]
     },
     "execution_count": 393,
     "metadata": {},
     "output_type": "execute_result"
    }
   ],
   "source": [
    "# Check for duplicates\n",
    "merged_df.duplicated().sum()"
   ]
  },
  {
   "cell_type": "markdown",
   "metadata": {},
   "source": [
    "We are good to go!"
   ]
  },
  {
   "cell_type": "code",
   "execution_count": 394,
   "metadata": {},
   "outputs": [
    {
     "data": {
      "text/html": [
       "<div>\n",
       "<style scoped>\n",
       "    .dataframe tbody tr th:only-of-type {\n",
       "        vertical-align: middle;\n",
       "    }\n",
       "\n",
       "    .dataframe tbody tr th {\n",
       "        vertical-align: top;\n",
       "    }\n",
       "\n",
       "    .dataframe thead th {\n",
       "        text-align: right;\n",
       "    }\n",
       "</style>\n",
       "<table border=\"1\" class=\"dataframe\">\n",
       "  <thead>\n",
       "    <tr style=\"text-align: right;\">\n",
       "      <th></th>\n",
       "      <th>userId</th>\n",
       "      <th>movieId</th>\n",
       "      <th>rating</th>\n",
       "      <th>timestamp</th>\n",
       "      <th>title</th>\n",
       "      <th>genres</th>\n",
       "      <th>tag</th>\n",
       "    </tr>\n",
       "  </thead>\n",
       "  <tbody>\n",
       "    <tr>\n",
       "      <th>102672</th>\n",
       "      <td>610</td>\n",
       "      <td>166534</td>\n",
       "      <td>4.0</td>\n",
       "      <td>1493848402</td>\n",
       "      <td>Split (2017)</td>\n",
       "      <td>Drama|Horror|Thriller</td>\n",
       "      <td>Unknown</td>\n",
       "    </tr>\n",
       "    <tr>\n",
       "      <th>102673</th>\n",
       "      <td>610</td>\n",
       "      <td>168248</td>\n",
       "      <td>5.0</td>\n",
       "      <td>1493850091</td>\n",
       "      <td>John Wick: Chapter Two (2017)</td>\n",
       "      <td>Action|Crime|Thriller</td>\n",
       "      <td>Heroic Bloodshed</td>\n",
       "    </tr>\n",
       "    <tr>\n",
       "      <th>102674</th>\n",
       "      <td>610</td>\n",
       "      <td>168250</td>\n",
       "      <td>5.0</td>\n",
       "      <td>1494273047</td>\n",
       "      <td>Get Out (2017)</td>\n",
       "      <td>Horror</td>\n",
       "      <td>Unknown</td>\n",
       "    </tr>\n",
       "    <tr>\n",
       "      <th>102675</th>\n",
       "      <td>610</td>\n",
       "      <td>168252</td>\n",
       "      <td>5.0</td>\n",
       "      <td>1493846352</td>\n",
       "      <td>Logan (2017)</td>\n",
       "      <td>Action|Sci-Fi</td>\n",
       "      <td>Unknown</td>\n",
       "    </tr>\n",
       "    <tr>\n",
       "      <th>102676</th>\n",
       "      <td>610</td>\n",
       "      <td>170875</td>\n",
       "      <td>3.0</td>\n",
       "      <td>1493846415</td>\n",
       "      <td>The Fate of the Furious (2017)</td>\n",
       "      <td>Action|Crime|Drama|Thriller</td>\n",
       "      <td>Unknown</td>\n",
       "    </tr>\n",
       "  </tbody>\n",
       "</table>\n",
       "</div>"
      ],
      "text/plain": [
       "        userId  movieId  rating   timestamp                           title  \\\n",
       "102672     610   166534     4.0  1493848402                    Split (2017)   \n",
       "102673     610   168248     5.0  1493850091   John Wick: Chapter Two (2017)   \n",
       "102674     610   168250     5.0  1494273047                  Get Out (2017)   \n",
       "102675     610   168252     5.0  1493846352                    Logan (2017)   \n",
       "102676     610   170875     3.0  1493846415  The Fate of the Furious (2017)   \n",
       "\n",
       "                             genres               tag  \n",
       "102672        Drama|Horror|Thriller           Unknown  \n",
       "102673        Action|Crime|Thriller  Heroic Bloodshed  \n",
       "102674                       Horror           Unknown  \n",
       "102675                Action|Sci-Fi           Unknown  \n",
       "102676  Action|Crime|Drama|Thriller           Unknown  "
      ]
     },
     "execution_count": 394,
     "metadata": {},
     "output_type": "execute_result"
    }
   ],
   "source": [
    "# Check the last 5 rows\n",
    "merged_df.tail()"
   ]
  },
  {
   "cell_type": "markdown",
   "metadata": {},
   "source": [
    "# 4. Exploring the Dataset"
   ]
  },
  {
   "cell_type": "code",
   "execution_count": 395,
   "metadata": {},
   "outputs": [
    {
     "name": "stdout",
     "output_type": "stream",
     "text": [
      "              userId        movieId         rating     timestamp\n",
      "count  102677.000000  102677.000000  102677.000000  1.026770e+05\n",
      "mean      327.761933   19742.712623       3.514813  1.209495e+09\n",
      "std       183.211289   35884.400990       1.043133  2.170117e+08\n",
      "min         1.000000       1.000000       0.500000  8.281246e+08\n",
      "25%       177.000000    1199.000000       3.000000  1.019138e+09\n",
      "50%       328.000000    3005.000000       3.500000  1.186590e+09\n",
      "75%       477.000000    8366.000000       4.000000  1.439916e+09\n",
      "max       610.000000  193609.000000       5.000000  1.537799e+09\n",
      "Unique users: 610\n",
      "Unique movies: 9724\n"
     ]
    }
   ],
   "source": [
    "# Summary of numerical columns\n",
    "print(merged_df.describe())\n",
    "\n",
    "# Count unique users & movies\n",
    "print(f\"Unique users: {merged_df['userId'].nunique()}\")\n",
    "print(f\"Unique movies: {merged_df['movieId'].nunique()}\")"
   ]
  },
  {
   "cell_type": "markdown",
   "metadata": {},
   "source": [
    "**Observation**\n",
    "- From the statistics above, we can see the min ratings at 0.5 and the maximun rating given is 5.\n",
    "- Averagely, movies are rated at 3.5"
   ]
  },
  {
   "cell_type": "markdown",
   "metadata": {},
   "source": [
    "## 4.1 Univariate"
   ]
  },
  {
   "cell_type": "code",
   "execution_count": 396,
   "metadata": {},
   "outputs": [],
   "source": [
    "# Split the Categorical columns from the Numerical Columns\n",
    "num_cols = merged_df.select_dtypes(include=['number', 'float', 'int']).columns\n",
    "# cat_cols = df.select_dtypes(exclude=['number', 'float', 'int']).columns"
   ]
  },
  {
   "cell_type": "markdown",
   "metadata": {},
   "source": [
    "What is the distribution of movie ratings?"
   ]
  },
  {
   "cell_type": "markdown",
   "metadata": {},
   "source": [
    "### 4.1.1 Movie Ratings distribution"
   ]
  },
  {
   "cell_type": "code",
   "execution_count": 397,
   "metadata": {},
   "outputs": [
    {
     "data": {
      "image/png": "[encoded data removed]",
      "text/plain": [
       "<Figure size 576x360 with 1 Axes>"
      ]
     },
     "metadata": {
      "needs_background": "light"
     },
     "output_type": "display_data"
    }
   ],
   "source": [
    "# Let us use a histplot to see distribitons of the ratings\n",
    "\n",
    "# Plot\n",
    "plt.figure(figsize=(8,5))\n",
    "sns.histplot(merged_df['rating'], bins=10, kde=True)\n",
    "plt.title(\"Distribution of Movie Ratings\")\n",
    "plt.xlabel(\"Rating\")\n",
    "plt.ylabel(\"Count\")\n",
    "plt.show()"
   ]
  },
  {
   "cell_type": "markdown",
   "metadata": {},
   "source": [
    "*Comment*:\n",
    "\n",
    "Most movies are rated between 3 and 4 with 0.5 being the least."
   ]
  },
  {
   "cell_type": "code",
   "execution_count": 398,
   "metadata": {},
   "outputs": [],
   "source": [
    "# def graph_plot(col):\n",
    "#     # Style\n",
    "# #     plt.style.use('_mpl-gallery')\n",
    "#     if col in num_cols:\n",
    "\n",
    "#         # plot:\n",
    "#         fig, ax = plt.subplots(figsize=(8, 6))\n",
    "\n",
    "#         ax.hist(merged_df[col], bins=20, linewidth=0.5, edgecolor=\"white\")\n",
    "\n",
    "#         plt.suptitle(f'Distribution of the {col.capitalize()}', fontsize=14)\n",
    "        \n",
    "#         ax.set_xlabel(f'{col.capitalize()}')\n",
    "        \n",
    "#         ax.set_ylabel('Distribution')\n",
    "        \n",
    "#         plt.show()\n",
    "        \n",
    "#     else:\n",
    "\n",
    "#         # plot:\n",
    "#         fig, ax = plt.subplots(figsize=(8, 6))\n",
    "        \n",
    "#         data = merged_df[col].value_counts(sort=True)\n",
    "        \n",
    "#         ax.bar(data.index[:10] if len(data) > 10 else data.index, \n",
    "#                data.values[:10] if len(data) > 10 else data.values, \n",
    "#                linewidth=0.5, edgecolor=\"white\")\n",
    "\n",
    "#         plt.suptitle(f'Distribution of the {col.capitalize()}', fontsize=14)\n",
    "        \n",
    "#         ax.set_ylabel('Distribution')\n",
    "        \n",
    "#         plt.show()"
   ]
  },
  {
   "cell_type": "markdown",
   "metadata": {},
   "source": [
    "### 4.1.2 Top 10 most rated"
   ]
  },
  {
   "cell_type": "code",
   "execution_count": 399,
   "metadata": {},
   "outputs": [
    {
     "data": {
      "image/png": "[encoded data removed]",
      "text/plain": [
       "<Figure size 720x360 with 1 Axes>"
      ]
     },
     "metadata": {
      "needs_background": "light"
     },
     "output_type": "display_data"
    }
   ],
   "source": [
    "# Count how many times each movie was rated\n",
    "popular_movies = merged_df['title'].value_counts().head(10)\n",
    "\n",
    "# Plot top 10 most rated movies\n",
    "plt.figure(figsize=(10,5))\n",
    "sns.barplot(x=popular_movies.values, y=popular_movies.index, palette=\"coolwarm\")\n",
    "plt.title(\"Top 10 Most Rated Movies\")\n",
    "plt.xlabel(\"Number of Ratings\")\n",
    "plt.show()"
   ]
  },
  {
   "cell_type": "markdown",
   "metadata": {},
   "source": [
    "*Observation*\n",
    "\n",
    "* The pulp fiction has the highest number of ratings\n",
    "* Majority of the top 10 movies are rated between 200-300 times"
   ]
  },
  {
   "cell_type": "markdown",
   "metadata": {},
   "source": [
    "### 4.1.3 Most common genres\n",
    "Lets us find the most common genres. We will have to split the genre column into specific genres as some movie are multi-classified"
   ]
  },
  {
   "cell_type": "code",
   "execution_count": 400,
   "metadata": {},
   "outputs": [
    {
     "data": {
      "image/png": "[encoded data removed]",
      "text/plain": [
       "<Figure size 720x360 with 1 Axes>"
      ]
     },
     "metadata": {
      "needs_background": "light"
     },
     "output_type": "display_data"
    }
   ],
   "source": [
    "# Split genres into a list\n",
    "all_genres = merged_df['genres'].str.split('|').explode()\n",
    "\n",
    "# Count genre occurrences\n",
    "genre_counts = all_genres.value_counts()\n",
    "\n",
    "# Plot\n",
    "plt.figure(figsize=(10,5))\n",
    "sns.barplot(x=genre_counts.values, y=genre_counts.index, palette=\"magma\")\n",
    "plt.title(\"Most Common Movie Genres\")\n",
    "plt.xlabel(\"Count\")\n",
    "plt.show()"
   ]
  },
  {
   "cell_type": "markdown",
   "metadata": {},
   "source": [
    "*Observation*\n",
    "* The most common genres is Drama and Comedy\n",
    "* Film-Noir is the least common genre"
   ]
  },
  {
   "cell_type": "markdown",
   "metadata": {},
   "source": [
    "### 4.1.4 User activity"
   ]
  },
  {
   "cell_type": "code",
   "execution_count": 401,
   "metadata": {},
   "outputs": [
    {
     "data": {
      "image/png": "[encoded data removed]",
      "text/plain": [
       "<Figure size 576x360 with 1 Axes>"
      ]
     },
     "metadata": {
      "needs_background": "light"
     },
     "output_type": "display_data"
    }
   ],
   "source": [
    "# Count ratings per user\n",
    "user_ratings = merged_df.groupby(\"userId\")[\"rating\"].count()\n",
    "\n",
    "# Plot distribution\n",
    "plt.figure(figsize=(8,5))\n",
    "sns.histplot(user_ratings, bins=50, kde=True)\n",
    "plt.title(\"Number of Ratings per User\")\n",
    "plt.xlabel(\"Ratings Count\")\n",
    "plt.ylabel(\"Number of Users\")\n",
    "plt.show()"
   ]
  },
  {
   "cell_type": "markdown",
   "metadata": {},
   "source": [
    "*Observation:*\n",
    "\n",
    "Most users rated movies 50 times (over 300 users)"
   ]
  },
  {
   "cell_type": "markdown",
   "metadata": {},
   "source": [
    "## 4.2 Bivariate"
   ]
  },
  {
   "cell_type": "markdown",
   "metadata": {},
   "source": [
    "### 4.2.1 Average Rating per Movie"
   ]
  },
  {
   "cell_type": "code",
   "execution_count": 402,
   "metadata": {},
   "outputs": [
    {
     "data": {
      "image/png": "[encoded data removed]",
      "text/plain": [
       "<Figure size 720x360 with 1 Axes>"
      ]
     },
     "metadata": {
      "needs_background": "light"
     },
     "output_type": "display_data"
    }
   ],
   "source": [
    "# Get movies with highest average rating (with at least 50 ratings)\n",
    "movie_ratings = merged_df.groupby(\"title\")[\"rating\"].agg([\"mean\", \"count\"])\n",
    "top_movies = movie_ratings[movie_ratings[\"count\"] >= 50].sort_values(\"mean\", ascending=False).head(10)\n",
    "\n",
    "# Plot\n",
    "plt.figure(figsize=(10,5))\n",
    "sns.barplot(x=top_movies[\"mean\"], y=top_movies.index, palette=\"viridis\")\n",
    "plt.title(\"Top 10 Highest Rated Movies (with a min of 50 ratings)\")\n",
    "plt.xlabel(\"Average Rating\")\n",
    "plt.show()"
   ]
  },
  {
   "cell_type": "markdown",
   "metadata": {},
   "source": [
    "*Comment*\n",
    "\n",
    "As from before, Pulp fiction is the highest rating, but also averagely."
   ]
  },
  {
   "cell_type": "markdown",
   "metadata": {},
   "source": [
    "### 4.2.2 Rating vs. Number of Ratings (Popularity Bias)"
   ]
  },
  {
   "cell_type": "code",
   "execution_count": 403,
   "metadata": {},
   "outputs": [
    {
     "data": {
      "image/png": "[encoded data removed]",
      "text/plain": [
       "<Figure size 576x360 with 1 Axes>"
      ]
     },
     "metadata": {
      "needs_background": "light"
     },
     "output_type": "display_data"
    }
   ],
   "source": [
    "# Plot\n",
    "plt.figure(figsize=(8,5))\n",
    "sns.scatterplot(x=movie_ratings[\"count\"], y=movie_ratings[\"mean\"], alpha=0.7)\n",
    "plt.xlabel(\"Number of Ratings\")\n",
    "plt.ylabel(\"Average Rating\")\n",
    "plt.title(\"Relationship Between Number of Ratings and Average Rating\")\n",
    "plt.show()"
   ]
  },
  {
   "cell_type": "markdown",
   "metadata": {},
   "source": [
    "*Comment*: Most ratings seem to be between 2.5 and 4 average rating"
   ]
  },
  {
   "cell_type": "markdown",
   "metadata": {},
   "source": [
    "### 4.2.3 Relationship Between Movie Ratings & Number of Ratings"
   ]
  },
  {
   "cell_type": "code",
   "execution_count": 404,
   "metadata": {},
   "outputs": [
    {
     "data": {
      "image/png": "[encoded data removed]",
      "text/plain": [
       "<Figure size 576x360 with 1 Axes>"
      ]
     },
     "metadata": {
      "needs_background": "light"
     },
     "output_type": "display_data"
    }
   ],
   "source": [
    "# Calculate mean rating & count per movie\n",
    "movie_stats = merged_df.groupby(\"title\")[\"rating\"].agg([\"mean\", \"count\"])\n",
    "\n",
    "# Scatter plot\n",
    "plt.figure(figsize=(8,5))\n",
    "sns.scatterplot(x=movie_stats[\"count\"], y=movie_stats[\"mean\"], alpha=0.5)\n",
    "plt.xscale(\"log\")\n",
    "plt.title(\"Number of Ratings vs. Average Rating\")\n",
    "plt.xlabel(\"Number of Ratings (log scale)\")\n",
    "plt.ylabel(\"Average Rating\")\n",
    "plt.show()"
   ]
  },
  {
   "cell_type": "markdown",
   "metadata": {},
   "source": [
    "*Comment*: Movies with more ratings tend to have higher ratings."
   ]
  },
  {
   "cell_type": "markdown",
   "metadata": {},
   "source": [
    "### 4.2.4 Genre vs. Average Rating"
   ]
  },
  {
   "cell_type": "code",
   "execution_count": 405,
   "metadata": {},
   "outputs": [
    {
     "data": {
      "image/png": "[encoded data removed]",
      "text/plain": [
       "<Figure size 720x360 with 1 Axes>"
      ]
     },
     "metadata": {
      "needs_background": "light"
     },
     "output_type": "display_data"
    }
   ],
   "source": [
    "# Explode genres into individual rows\n",
    "genre_ratings = merged_df.assign(genres=merged_df['genres'].str.split('|')).explode('genres')\n",
    "\n",
    "# Compute average rating per genre\n",
    "genre_avg_rating = genre_ratings.groupby(\"genres\")[\"rating\"].mean().sort_values(ascending=False)\n",
    "\n",
    "# Plot\n",
    "plt.figure(figsize=(10,5))\n",
    "sns.barplot(x=genre_avg_rating.values, y=genre_avg_rating.index, palette=\"coolwarm\")\n",
    "plt.xlabel(\"Average Rating\")\n",
    "plt.title(\"Average Rating by Genre\")\n",
    "plt.show()"
   ]
  },
  {
   "cell_type": "markdown",
   "metadata": {},
   "source": [
    "*Comment:* \n",
    "1. The Horror genre consistently receives lower ratings than others.\n",
    "2. The Film-Noir, war and Documentary genres receive higher ratings than others\n",
    "3. Most ratings are between 3.5 and 4.0 "
   ]
  },
  {
   "cell_type": "markdown",
   "metadata": {},
   "source": [
    "### 4.2.5 Relationship Between User Activity & Average Rating Given\n"
   ]
  },
  {
   "cell_type": "code",
   "execution_count": 406,
   "metadata": {},
   "outputs": [
    {
     "data": {
      "image/png": "[encoded data removed]",
      "text/plain": [
       "<Figure size 576x360 with 1 Axes>"
      ]
     },
     "metadata": {
      "needs_background": "light"
     },
     "output_type": "display_data"
    }
   ],
   "source": [
    "# Calculate user rating count & mean rating\n",
    "user_stats = merged_df.groupby(\"userId\")[\"rating\"].agg([\"mean\", \"count\"])\n",
    "\n",
    "# Scatter plot\n",
    "plt.figure(figsize=(8,5))\n",
    "sns.scatterplot(x=user_stats[\"count\"], y=user_stats[\"mean\"], alpha=0.5)\n",
    "plt.xscale(\"log\")\n",
    "plt.title(\"Number of Ratings Given vs. Average Rating Given\")\n",
    "plt.xlabel(\"Number of Ratings (log scale)\")\n",
    "plt.ylabel(\"Average Rating Given\")\n",
    "plt.show()"
   ]
  },
  {
   "cell_type": "markdown",
   "metadata": {},
   "source": [
    "*Comment:*\n",
    "\n",
    "Most users give a rating between 3.0 and 4.5, with very few giving the extremes."
   ]
  },
  {
   "cell_type": "markdown",
   "metadata": {},
   "source": [
    "### 4.2.6 User Activity vs. Average Rating"
   ]
  },
  {
   "cell_type": "code",
   "execution_count": 407,
   "metadata": {},
   "outputs": [
    {
     "data": {
      "image/png": "[encoded data removed]",
      "text/plain": [
       "<Figure size 576x360 with 1 Axes>"
      ]
     },
     "metadata": {
      "needs_background": "light"
     },
     "output_type": "display_data"
    }
   ],
   "source": [
    "# Compute ratings per user and their average rating\n",
    "user_activity = merged_df.groupby(\"userId\")[\"rating\"].agg([\"count\", \"mean\"])\n",
    "\n",
    "# Plot\n",
    "plt.figure(figsize=(8,5))\n",
    "sns.scatterplot(x=user_activity[\"count\"], y=user_activity[\"mean\"], alpha=0.6)\n",
    "plt.xlabel(\"Number of Ratings per User\")\n",
    "plt.ylabel(\"Average Rating Given\")\n",
    "plt.title(\"User Activity vs. Average Rating Given\")\n",
    "plt.show()"
   ]
  },
  {
   "cell_type": "markdown",
   "metadata": {},
   "source": [
    "*Observation:* Users have given less 500 ratings with majority ratings between 3-4\n"
   ]
  },
  {
   "cell_type": "markdown",
   "metadata": {},
   "source": [
    "## 4.3 Multivariate"
   ]
  },
  {
   "cell_type": "markdown",
   "metadata": {},
   "source": [
    "### 4.3.1 Feature Correlations Heatmap\n",
    "Let us have a heatmap to check if features like timestamps, user behavior, and ratings are correlated."
   ]
  },
  {
   "cell_type": "code",
   "execution_count": 408,
   "metadata": {},
   "outputs": [
    {
     "data": {
      "image/png": "[encoded data removed]",
      "text/plain": [
       "<Figure size 720x576 with 2 Axes>"
      ]
     },
     "metadata": {
      "needs_background": "light"
     },
     "output_type": "display_data"
    }
   ],
   "source": [
    "# Get the corr values\n",
    "corr_matrix = merged_df.corr()\n",
    "\n",
    "# Create a mask using numpy's triu function\n",
    "mask = np.triu(np.ones_like(corr_matrix, dtype=bool))\n",
    "\n",
    "# Create a masked heatmap\n",
    "plt.figure(figsize = (10,8))\n",
    "plt.rcParams.update({'font.size': 12})\n",
    "sns.heatmap(corr_matrix, cmap = 'viridis', vmin = -1, vmax = 1, center = 0, annot=True, fmt=\".2f\", square=True, linewidths=.5, mask = mask)\n",
    "plt.show()"
   ]
  },
  {
   "cell_type": "markdown",
   "metadata": {},
   "source": [
    "*Observation:*\n",
    "\n",
    "There is no meaningful correlations between the data features."
   ]
  },
  {
   "cell_type": "markdown",
   "metadata": {},
   "source": [
    "### 4.3.2 Rating Trends Over Time\n"
   ]
  },
  {
   "cell_type": "code",
   "execution_count": 409,
   "metadata": {},
   "outputs": [
    {
     "data": {
      "image/png": "[encoded data removed]",
      "text/plain": [
       "<Figure size 720x360 with 1 Axes>"
      ]
     },
     "metadata": {
      "needs_background": "light"
     },
     "output_type": "display_data"
    }
   ],
   "source": [
    "# Convert timestamp to datetime\n",
    "merged_df['date'] = pd.to_datetime(merged_df['timestamp'], unit='s')\n",
    "\n",
    "# Extract year\n",
    "merged_df['year'] = merged_df['date'].dt.year\n",
    "\n",
    "# Compute average rating per year\n",
    "rating_trend = merged_df.groupby(\"year\")[\"rating\"].mean()\n",
    "\n",
    "# Plot\n",
    "plt.figure(figsize=(10,5))\n",
    "sns.lineplot(x=rating_trend.index, y=rating_trend.values)\n",
    "plt.xlabel(\"Year\")\n",
    "plt.ylabel(\"Average Rating\")\n",
    "plt.title(\"Average Rating Over Time\")\n",
    "plt.show()"
   ]
  },
  {
   "cell_type": "markdown",
   "metadata": {},
   "source": [
    "*Comment:*\n",
    "\n",
    "1. The ratings were higher during the year of 2010 to 2015 \n",
    "2. Between 2000 and  2007, was the lowest rating period.\n",
    "This may indicate user preference shifts or something caused low ratings during that time"
   ]
  },
  {
   "cell_type": "markdown",
   "metadata": {},
   "source": [
    "### 4.3.3 Genre Distribution Across Different Rating Levels"
   ]
  },
  {
   "cell_type": "code",
   "execution_count": 410,
   "metadata": {},
   "outputs": [
    {
     "data": {
      "image/png": "[encoded data removed]",
      "text/plain": [
       "<Figure size 864x432 with 1 Axes>"
      ]
     },
     "metadata": {
      "needs_background": "light"
     },
     "output_type": "display_data"
    }
   ],
   "source": [
    "# Categorize ratings into bins\n",
    "merged_df[\"rating_category\"] = pd.cut(\n",
    "    merged_df[\"rating\"], bins=[0, 2, 4, 5], labels=[\"Low\", \"Medium\", \"High\"]\n",
    ")\n",
    "\n",
    "# Explode genres (assuming genres are separated by '|')\n",
    "genre_ratings = merged_df.copy()\n",
    "genre_ratings[\"genres\"] = genre_ratings[\"genres\"].str.split(\"|\")\n",
    "genre_ratings = genre_ratings.explode(\"genres\")\n",
    "\n",
    "# Count of genres per rating category\n",
    "genre_rating_dist = genre_ratings.groupby([\"genres\", \"rating_category\"]).size().unstack().fillna(0)\n",
    "\n",
    "# Plot stacked bar chart\n",
    "genre_rating_dist.plot(kind=\"bar\", stacked=True, figsize=(12,6), colormap=\"viridis\")\n",
    "\n",
    "plt.title(\"Genre Distribution Across Different Rating Levels\")\n",
    "plt.xlabel(\"Genre\")\n",
    "plt.ylabel(\"Count of Ratings\")\n",
    "plt.xticks(rotation=45, ha='right')\n",
    "plt.legend(title=\"Rating Category\")\n",
    "plt.show()"
   ]
  },
  {
   "cell_type": "markdown",
   "metadata": {},
   "source": [
    "*Comment* \n",
    "\n",
    "1. Most of the genres are medium rated,followed by the high rating. \n",
    "Minimim ratings are quite low in numbers\n",
    "2. Drama is the highest rated genre.\n",
    "3. Documentary, Film-Noir and Western are low in number as seen before"
   ]
  },
  {
   "cell_type": "markdown",
   "metadata": {},
   "source": [
    "### 4.3.4 Top 10 most correlated movies\n",
    "Let's see the most corelated movies"
   ]
  },
  {
   "cell_type": "code",
   "execution_count": 411,
   "metadata": {},
   "outputs": [
    {
     "name": "stdout",
     "output_type": "stream",
     "text": [
      "title\n",
      "Forrest Gump (1994)                                                          1.000000\n",
      "Mr. Holland's Opus (1995)                                                    0.652144\n",
      "Pocahontas (1995)                                                            0.550118\n",
      "Big (1988)                                                                   0.492351\n",
      "Good Will Hunting (1997)                                                     0.484042\n",
      "Aladdin (1992)                                                               0.464268\n",
      "Good, the Bad and the Ugly, The (Buono, il brutto, il cattivo, Il) (1966)    0.461204\n",
      "American History X (1998)                                                    0.457287\n",
      "Legends of the Fall (1994)                                                   0.439889\n",
      "Contact (1997)                                                               0.438597\n",
      "Name: Forrest Gump (1994), dtype: float64\n"
     ]
    }
   ],
   "source": [
    "# Create a pivot table of users and movie ratings\n",
    "movie_matrix = merged_df.pivot_table(index='userId', columns='title', values='rating')\n",
    "\n",
    "# Compute correlation for two popular movies\n",
    "corr_matrix = movie_matrix.corr(method='pearson', min_periods=50)\n",
    "corr_movie = corr_matrix[\"Forrest Gump (1994)\"].dropna().sort_values(ascending=False)\n",
    "\n",
    "# Show most correlated movies\n",
    "print(corr_movie.head(10))\n",
    "\n"
   ]
  },
  {
   "cell_type": "code",
   "execution_count": 412,
   "metadata": {},
   "outputs": [
    {
     "data": {
      "text/plain": [
       "userId             0\n",
       "movieId            0\n",
       "rating             0\n",
       "timestamp          0\n",
       "title              0\n",
       "genres             0\n",
       "tag                0\n",
       "date               0\n",
       "year               0\n",
       "rating_category    0\n",
       "dtype: int64"
      ]
     },
     "execution_count": 412,
     "metadata": {},
     "output_type": "execute_result"
    }
   ],
   "source": [
    "# Confirm null values\n",
    "merged_df.isna().sum()"
   ]
  },
  {
   "cell_type": "markdown",
   "metadata": {},
   "source": [
    "# 5. Feature Transformation"
   ]
  },
  {
   "cell_type": "markdown",
   "metadata": {},
   "source": [
    "## 5.1 Encoding Categorical Features\n",
    "Since we have handled missing values, we can go straight to feature engineering.\n",
    "\n",
    "First we will use ***MultiLabelBinarizer*** to encode the genres column to convert genres into binary features. This because a row can have more than 2 types of genre.\n"
   ]
  },
  {
   "cell_type": "code",
   "execution_count": 413,
   "metadata": {},
   "outputs": [],
   "source": [
    "# Convert genre string to list\n",
    "merged_df[\"genres\"] = merged_df[\"genres\"].str.split('|')\n",
    "\n",
    "# Apply MultiLabelBinarizer\n",
    "mlb = MultiLabelBinarizer()\n",
    "genre_encoded = pd.DataFrame(mlb.fit_transform(merged_df[\"genres\"]), columns=mlb.classes_)\n",
    "\n",
    "# Concatenate with the main dataset\n",
    "merged_df = pd.concat([merged_df, genre_encoded], axis=1).drop(columns=[\"genres\"])"
   ]
  },
  {
   "cell_type": "markdown",
   "metadata": {},
   "source": [
    "## 5.2 Creating Temporal Features\n",
    "Extract Year from Timestamp. This will give the year the rating was done."
   ]
  },
  {
   "cell_type": "code",
   "execution_count": 414,
   "metadata": {},
   "outputs": [],
   "source": [
    "merged_df[\"rating_year\"] = pd.to_datetime(merged_df[\"timestamp\"], unit=\"s\").dt.year"
   ]
  },
  {
   "cell_type": "markdown",
   "metadata": {},
   "source": [
    "## 5.3 Aggregated Movie & User Statistics\n",
    "Movie Popularity & Average Rating"
   ]
  },
  {
   "cell_type": "code",
   "execution_count": 415,
   "metadata": {},
   "outputs": [],
   "source": [
    "# Calculate average rating & count per movie\n",
    "movie_features = merged_df.groupby(\"movieId\").agg(\n",
    "    avg_movie_rating=(\"rating\", \"mean\"),\n",
    "    total_movie_ratings=(\"rating\", \"count\")\n",
    ").reset_index()\n",
    "\n",
    "# Merge back into dataset\n",
    "merged_df = merged_df.merge(movie_features, on=\"movieId\", how=\"left\")\n",
    "\n"
   ]
  },
  {
   "cell_type": "code",
   "execution_count": 416,
   "metadata": {},
   "outputs": [
    {
     "name": "stdout",
     "output_type": "stream",
     "text": [
      "<class 'pandas.core.frame.DataFrame'>\n",
      "Int64Index: 102677 entries, 0 to 102676\n",
      "Data columns (total 32 columns):\n",
      " #   Column               Non-Null Count   Dtype         \n",
      "---  ------               --------------   -----         \n",
      " 0   userId               102677 non-null  int64         \n",
      " 1   movieId              102677 non-null  int64         \n",
      " 2   rating               102677 non-null  float64       \n",
      " 3   timestamp            102677 non-null  int64         \n",
      " 4   title                102677 non-null  object        \n",
      " 5   tag                  102677 non-null  object        \n",
      " 6   date                 102677 non-null  datetime64[ns]\n",
      " 7   year                 102677 non-null  int64         \n",
      " 8   rating_category      102677 non-null  category      \n",
      " 9   (no genres listed)   102677 non-null  int32         \n",
      " 10  Action               102677 non-null  int32         \n",
      " 11  Adventure            102677 non-null  int32         \n",
      " 12  Animation            102677 non-null  int32         \n",
      " 13  Children             102677 non-null  int32         \n",
      " 14  Comedy               102677 non-null  int32         \n",
      " 15  Crime                102677 non-null  int32         \n",
      " 16  Documentary          102677 non-null  int32         \n",
      " 17  Drama                102677 non-null  int32         \n",
      " 18  Fantasy              102677 non-null  int32         \n",
      " 19  Film-Noir            102677 non-null  int32         \n",
      " 20  Horror               102677 non-null  int32         \n",
      " 21  IMAX                 102677 non-null  int32         \n",
      " 22  Musical              102677 non-null  int32         \n",
      " 23  Mystery              102677 non-null  int32         \n",
      " 24  Romance              102677 non-null  int32         \n",
      " 25  Sci-Fi               102677 non-null  int32         \n",
      " 26  Thriller             102677 non-null  int32         \n",
      " 27  War                  102677 non-null  int32         \n",
      " 28  Western              102677 non-null  int32         \n",
      " 29  rating_year          102677 non-null  int64         \n",
      " 30  avg_movie_rating     102677 non-null  float64       \n",
      " 31  total_movie_ratings  102677 non-null  int64         \n",
      "dtypes: category(1), datetime64[ns](1), float64(2), int32(20), int64(6), object(2)\n",
      "memory usage: 17.3+ MB\n"
     ]
    }
   ],
   "source": [
    "# Check top 5 rows\n",
    "merged_df.head(2)\n",
    "merged_df.info()"
   ]
  },
  {
   "cell_type": "markdown",
   "metadata": {},
   "source": [
    "User Rating Behaviour"
   ]
  },
  {
   "cell_type": "code",
   "execution_count": 417,
   "metadata": {},
   "outputs": [],
   "source": [
    "# Calculate average rating & count per user\n",
    "user_features = merged_df.groupby(\"userId\").agg(\n",
    "    avg_user_rating=(\"rating\", \"mean\"),\n",
    "    total_user_ratings=(\"rating\", \"count\")\n",
    ").reset_index()\n",
    "\n",
    "# Merge back into dataset\n",
    "merged_df = merged_df.merge(user_features, on=\"userId\", how=\"left\")"
   ]
  },
  {
   "cell_type": "code",
   "execution_count": 418,
   "metadata": {},
   "outputs": [
    {
     "name": "stdout",
     "output_type": "stream",
     "text": [
      "<class 'pandas.core.frame.DataFrame'>\n",
      "Int64Index: 102677 entries, 0 to 102676\n",
      "Data columns (total 34 columns):\n",
      " #   Column               Non-Null Count   Dtype         \n",
      "---  ------               --------------   -----         \n",
      " 0   userId               102677 non-null  int64         \n",
      " 1   movieId              102677 non-null  int64         \n",
      " 2   rating               102677 non-null  float64       \n",
      " 3   timestamp            102677 non-null  int64         \n",
      " 4   title                102677 non-null  object        \n",
      " 5   tag                  102677 non-null  object        \n",
      " 6   date                 102677 non-null  datetime64[ns]\n",
      " 7   year                 102677 non-null  int64         \n",
      " 8   rating_category      102677 non-null  category      \n",
      " 9   (no genres listed)   102677 non-null  int32         \n",
      " 10  Action               102677 non-null  int32         \n",
      " 11  Adventure            102677 non-null  int32         \n",
      " 12  Animation            102677 non-null  int32         \n",
      " 13  Children             102677 non-null  int32         \n",
      " 14  Comedy               102677 non-null  int32         \n",
      " 15  Crime                102677 non-null  int32         \n",
      " 16  Documentary          102677 non-null  int32         \n",
      " 17  Drama                102677 non-null  int32         \n",
      " 18  Fantasy              102677 non-null  int32         \n",
      " 19  Film-Noir            102677 non-null  int32         \n",
      " 20  Horror               102677 non-null  int32         \n",
      " 21  IMAX                 102677 non-null  int32         \n",
      " 22  Musical              102677 non-null  int32         \n",
      " 23  Mystery              102677 non-null  int32         \n",
      " 24  Romance              102677 non-null  int32         \n",
      " 25  Sci-Fi               102677 non-null  int32         \n",
      " 26  Thriller             102677 non-null  int32         \n",
      " 27  War                  102677 non-null  int32         \n",
      " 28  Western              102677 non-null  int32         \n",
      " 29  rating_year          102677 non-null  int64         \n",
      " 30  avg_movie_rating     102677 non-null  float64       \n",
      " 31  total_movie_ratings  102677 non-null  int64         \n",
      " 32  avg_user_rating      102677 non-null  float64       \n",
      " 33  total_user_ratings   102677 non-null  int64         \n",
      "dtypes: category(1), datetime64[ns](1), float64(3), int32(20), int64(7), object(2)\n",
      "memory usage: 18.9+ MB\n"
     ]
    }
   ],
   "source": [
    "# Check summary info\n",
    "merged_df.info()"
   ]
  },
  {
   "cell_type": "markdown",
   "metadata": {},
   "source": [
    "## 6. Feature Selection"
   ]
  },
  {
   "cell_type": "markdown",
   "metadata": {},
   "source": [
    "We have added new features and the columns are now 34. We cannot use all the features, so we can pick the relevant ones"
   ]
  },
  {
   "cell_type": "code",
   "execution_count": 419,
   "metadata": {},
   "outputs": [],
   "source": [
    "# Create a list\n",
    "features = [\n",
    "    \"avg_movie_rating\", \"total_movie_ratings\",\n",
    "    \"avg_user_rating\", \"total_user_ratings\",\n",
    "    \"rating_year\"\n",
    "] + list(mlb.classes_)  # Include genre features\n",
    "X = merged_df[features]\n",
    "y = merged_df[\"rating\"]"
   ]
  },
  {
   "cell_type": "markdown",
   "metadata": {},
   "source": [
    "# 5. Modeling\n",
    "Since we are doing a recommendation system we are using the Surprise library, we can use the SVD model and KNN model"
   ]
  },
  {
   "cell_type": "code",
   "execution_count": 420,
   "metadata": {},
   "outputs": [],
   "source": [
    "class SurprisePipeline:\n",
    "    # Initializes the pipeline\n",
    "    def __init__(self, model_type=\"KNN\", rating_scale=(0.5, 5.0), sim_metric=\"cosine\", user_based=False):\n",
    "        self.reader = Reader(rating_scale=rating_scale)\n",
    "        self.trainset = None\n",
    "        self.predictions = None\n",
    "        \n",
    "        # Select model\n",
    "        if model_type == \"KNN\":\n",
    "            self.sim_options = {\"name\": sim_metric, \"user_based\": user_based}\n",
    "            self.model = KNNBasic(sim_options=self.sim_options)\n",
    "        elif model_type == \"SVD\":\n",
    "            self.model = SVD()\n",
    "        else:\n",
    "            raise ValueError(\"Invalid model_type. Choose 'KNN' or 'SVD'.\")\n",
    "    \n",
    "    # Load data\n",
    "    def load_data(self, dataframe):\n",
    "        # Load the dataset from a Pandas DataFrame\n",
    "        data = Dataset.load_from_df(dataframe[['userId', 'movieId', 'rating']], self.reader)\n",
    "        \n",
    "        # build the trainset data\n",
    "        self.trainset = data.build_full_trainset()\n",
    "    \n",
    "    # Train the model  \n",
    "    def train(self):\n",
    "        \"\"\"Trains the model on the full trainset.\"\"\"\n",
    "        # Return an error if trainset is empty otherwise fit the model\n",
    "        if self.trainset is None:\n",
    "            raise ValueError(\"Data must be loaded before training.\")\n",
    "        self.model.fit(self.trainset)\n",
    "    \n",
    "    # Evaluate the model using RMSE\n",
    "    def evaluate(self):\n",
    "        \"\"\"Evaluates the model using RMSE on the training data.\"\"\"\n",
    "        \n",
    "        # Return an error if trainset is empty\n",
    "        if self.trainset is None:\n",
    "            raise ValueError(\"Model must be trained before evaluation.\")\n",
    "        \n",
    "        # Build the testset\n",
    "        testset = self.trainset.build_testset()\n",
    "        \n",
    "        # Predict\n",
    "        self.predictions = self.model.test(testset)\n",
    "        \n",
    "        # Get RMSE Value\n",
    "        rmse_value = accuracy.rmse(self.predictions)\n",
    "        \n",
    "        # Return RMSE\n",
    "        return rmse_value\n",
    "    "
   ]
  },
  {
   "cell_type": "markdown",
   "metadata": {},
   "source": [
    "## 5.1 Matrix Factorization (SVD)\n",
    "Singular Value Decomposition (SVD) decomposes the user-item matrix into latent factors."
   ]
  },
  {
   "cell_type": "code",
   "execution_count": 421,
   "metadata": {},
   "outputs": [
    {
     "name": "stdout",
     "output_type": "stream",
     "text": [
      "RMSE: 0.6292\n"
     ]
    }
   ],
   "source": [
    "# Implement SVD model:\n",
    "svd_pipeline = SurprisePipeline(model_type=\"SVD\")\n",
    "svd_pipeline.load_data(merged_df)\n",
    "svd_pipeline.train()\n",
    "svd_rmse = svd_pipeline.evaluate()"
   ]
  },
  {
   "cell_type": "markdown",
   "metadata": {},
   "source": [
    "## 5.2 K-Nearest Neighbors (KNN-Based)"
   ]
  },
  {
   "cell_type": "code",
   "execution_count": 422,
   "metadata": {},
   "outputs": [
    {
     "name": "stdout",
     "output_type": "stream",
     "text": [
      "Computing the cosine similarity matrix...\n",
      "Done computing similarity matrix.\n",
      "RMSE: 0.9070\n"
     ]
    }
   ],
   "source": [
    "# Run the KNN Pipeline\n",
    "knn_pipeline = SurprisePipeline(model_type=\"KNN\")\n",
    "knn_pipeline.load_data(merged_df)\n",
    "knn_pipeline.train()\n",
    "knn_rmse = knn_pipeline.evaluate()\n"
   ]
  },
  {
   "cell_type": "markdown",
   "metadata": {},
   "source": [
    "**Comment**\n",
    "\n",
    "The SVD Model has an RMSE of 0.63\n",
    "\n",
    "The KNN model has a better score with an RMSE score of 0.91 (91%)"
   ]
  },
  {
   "cell_type": "markdown",
   "metadata": {},
   "source": [
    "# 6. Model Tuning"
   ]
  },
  {
   "cell_type": "markdown",
   "metadata": {},
   "source": [
    "The best model between the two for this recommendation system is the KNN model.\n",
    "\n",
    "But due to memory usage challenges, we will fine tune the SVD model to see how the performance changes"
   ]
  },
  {
   "cell_type": "markdown",
   "metadata": {},
   "source": [
    "## 6.1 The SVD Model Fine-tuning\n",
    "Let us fine-tune the SVD model and see if the performance will improve."
   ]
  },
  {
   "cell_type": "code",
   "execution_count": 423,
   "metadata": {},
   "outputs": [
    {
     "name": "stdout",
     "output_type": "stream",
     "text": [
      "Best SVD params: {'n_factors': 10, 'lr_all': 0.002, 'reg_all': 0.02}\n"
     ]
    }
   ],
   "source": [
    "# Define parameter grid for SVD\n",
    "param_grid_svd = {\n",
    "    'n_factors': [10, 20, 50],  # Number of latent factors\n",
    "    'lr_all': [0.002, 0.005, 0.01],  # Learning rate\n",
    "    'reg_all': [0.02, 0.1, 0.4]  # Regularization\n",
    "}\n",
    "\n",
    "# Define Reader\n",
    "reader = Reader(rating_scale=(0.5, 5.0))\n",
    "\n",
    "# Load Data (Ensure merged_df contains 'userId', 'movieId', 'rating')\n",
    "data_to_tune = Dataset.load_from_df(merged_df[['userId', 'movieId', 'rating']], reader)\n",
    "\n",
    "# Run GridSearchCV\n",
    "grid_svd = GridSearchCV(KNNBasic, param_grid_svd, measures=['rmse'], cv=5, n_jobs=-1)\n",
    "\n",
    "# Fit the grid search to the dataset\n",
    "grid_svd.fit(data_to_tune) \n",
    "\n",
    "# Best parameters & model\n",
    "print(\"Best SVD params:\", grid_svd.best_params['rmse'])\n",
    "best_svd = grid_svd.best_estimator['rmse']\n"
   ]
  },
  {
   "cell_type": "markdown",
   "metadata": {},
   "source": [
    "Now let us fit the best parameters for optimization"
   ]
  },
  {
   "cell_type": "code",
   "execution_count": 424,
   "metadata": {},
   "outputs": [
    {
     "name": "stdout",
     "output_type": "stream",
     "text": [
      "RMSE: 0.8430\n",
      "Best SVD Model Test RMSE: 0.8429969911700007\n"
     ]
    }
   ],
   "source": [
    "# Get best params for RMSE\n",
    "best_params_svd = grid_svd.best_params['rmse']  \n",
    "\n",
    "# Initialize the model with best parameters\n",
    "best_svd = SVD(n_factors=best_params_svd['n_factors'], \n",
    "               reg_all=best_params_svd['reg_all'], \n",
    "               lr_all=best_params_svd['lr_all'])\n",
    "\n",
    "# Recreate the trainset\n",
    "trainset = data_to_tune.build_full_trainset()\n",
    "\n",
    "# Fit/Train the model on the full training set\n",
    "best_svd.fit(trainset)\n",
    "\n",
    "# Test the model on the test set\n",
    "testset = trainset.build_testset()  # Generate testset\n",
    "predictions_svd = best_svd.test(testset)  # Get predictions\n",
    "\n",
    "# Evaluate RMSE on test predictions\n",
    "svd_best_rmse = accuracy.rmse(predictions_svd)\n",
    "\n",
    "# Print results\n",
    "print(f\"Best SVD Model Test RMSE: {svd_best_rmse}\")\n"
   ]
  },
  {
   "cell_type": "markdown",
   "metadata": {},
   "source": [
    "## 6.2 Fine-tuning the KNN model\n",
    "Let us also fine-tune the KNN model"
   ]
  },
  {
   "cell_type": "code",
   "execution_count": 425,
   "metadata": {},
   "outputs": [],
   "source": [
    "# # Define hyperparameters for KNN\n",
    "# param_grid_knn = {\n",
    "#     'k': [5, 5, 10],  # Number of neighbors\n",
    "#     'sim_options': {\n",
    "#         'name': ['cosine', 'pearson'],\n",
    "#         'user_based': [True, False]  # User-based or item-based filtering\n",
    "#     }\n",
    "# }\n",
    "\n",
    "# # Define Reader\n",
    "# reader = Reader(rating_scale=(0.5, 5.0))\n",
    "\n",
    "# # Load Data (Ensure merged_df contains 'userId', 'movieId', 'rating')\n",
    "# data_to_tune = Dataset.load_from_df(merged_df[['userId', 'movieId', 'rating']], reader)\n",
    "\n",
    "# # Run GridSearchCV\n",
    "# grid_knn = GridSearchCV(KNNBasic, param_grid_knn, measures=['rmse'], cv=5, n_jobs=-1)\n",
    "\n",
    "# # Fit the grid search to the dataset\n",
    "# grid_knn.fit(data_to_tune) \n",
    "\n",
    "# # Get best RMSE score and parameters\n",
    "# print(\"Best RMSE score:\", grid_knn.best_score['rmse'])\n",
    "# print(\"Best Parameters:\", grid_knn.best_params['rmse'])\n",
    "\n",
    "# best_knn = grid_knn.best_estimator['rmse']"
   ]
  },
  {
   "cell_type": "markdown",
   "metadata": {},
   "source": [
    "Let us fit the KNN model with the best params"
   ]
  },
  {
   "cell_type": "code",
   "execution_count": 426,
   "metadata": {},
   "outputs": [],
   "source": [
    "# # Retrieve the best parameters\n",
    "# best_params = grid_knn.best_params['rmse'] \n",
    "\n",
    "# # Initialize the model with best parameters\n",
    "# best_knn = KNNBasic(k=best_params['k'], sim_options=best_params['sim_options'])\n",
    "\n",
    "# trainset = data_to_tune.build_full_trainset()\n",
    "\n",
    "# # Train the model on the full training set\n",
    "# best_knn.fit(trainset)\n",
    "\n",
    "# # Test the model on the test set\n",
    "# testset = trainset.build_testset()  # Generate testset\n",
    "# predictions = best_knn.test(testset)  # Get predictions\n",
    "\n",
    "# # Evaluate RMSE on test predictions\n",
    "# knn_best_rmse = accuracy.rmse(predictions)\n",
    "\n",
    "# print(f\"Best Model Test RMSE: {rmse_knn}\")"
   ]
  },
  {
   "cell_type": "markdown",
   "metadata": {},
   "source": [
    "**Note**\n",
    "\n",
    "Due to memory issue challenge, the KNN code is commented out. But the SVD model performs better. "
   ]
  },
  {
   "cell_type": "markdown",
   "metadata": {},
   "source": [
    "Let us compare the results of the baseline model results and the tuned model."
   ]
  },
  {
   "cell_type": "markdown",
   "metadata": {},
   "source": [
    "# 7. Model Evaluation"
   ]
  },
  {
   "cell_type": "code",
   "execution_count": 427,
   "metadata": {},
   "outputs": [
    {
     "name": "stdout",
     "output_type": "stream",
     "text": [
      "Model Comparison:\n",
      "Initial SVD RMSE: 0.629230378159467\n",
      "Initial KNN RMSE: 0.9070045409570826\n"
     ]
    }
   ],
   "source": [
    "# Compare results\n",
    "print(f\"Model Comparison:\")\n",
    "print(f\"Initial SVD RMSE: {svd_rmse}\")\n",
    "print(f\"Initial KNN RMSE: {knn_rmse}\")"
   ]
  },
  {
   "cell_type": "markdown",
   "metadata": {},
   "source": [
    "**Comment**\n",
    "\n",
    "The KNN model had a higher RMSE of $0.63$ as compared to the SVD RMSE score of $0.91$"
   ]
  },
  {
   "cell_type": "code",
   "execution_count": 428,
   "metadata": {},
   "outputs": [
    {
     "name": "stdout",
     "output_type": "stream",
     "text": [
      "Basic and Tuned Model Comparison:\n",
      "Initial SVD RMSE: 0.629230378159467\n",
      "Best SVD RMSE: 0.8429969911700007\n"
     ]
    }
   ],
   "source": [
    "# Compare results\n",
    "print(f\"Basic and Tuned Model Comparison:\")\n",
    "print(f\"Initial SVD RMSE: {svd_rmse}\")\n",
    "print(f\"Best SVD RMSE: {svd_best_rmse}\")\n",
    "# print(f\"Best KNN RMSE: {knn_best_rmse }\")"
   ]
  },
  {
   "cell_type": "markdown",
   "metadata": {},
   "source": [
    "**Comment**\n",
    "\n",
    "We can only get a score for the fine-tuned SVD model. The fine-tuned model has an improved score, $0.84$ after using the best parameters from the gridsearchCV.\n",
    "\n",
    "This RMSE is higher than the initial params (It is less accurate)\n"
   ]
  },
  {
   "cell_type": "markdown",
   "metadata": {},
   "source": [
    "### 7.0.1 Prediction Example"
   ]
  },
  {
   "cell_type": "code",
   "execution_count": 429,
   "metadata": {},
   "outputs": [
    {
     "name": "stdout",
     "output_type": "stream",
     "text": [
      "Predicted rating for User 1 and Movie 50: 5.00\n"
     ]
    }
   ],
   "source": [
    "# Predict rating for a specific user and movie\n",
    "user_id = 1  # Example user\n",
    "movie_id = 50  # Example movie\n",
    "\n",
    "svd_predictions = best_svd.predict(uid=user_id, iid=movie_id)\n",
    "print(f\"Predicted rating for User {user_id} and Movie {movie_id}: {svd_predictions.est:.2f}\")"
   ]
  },
  {
   "cell_type": "code",
   "execution_count": 430,
   "metadata": {},
   "outputs": [
    {
     "name": "stdout",
     "output_type": "stream",
     "text": [
      "Predicted rating for User 1 and Movie 3: 4.05\n"
     ]
    }
   ],
   "source": [
    "# Predict rating for a specific user and movie\n",
    "user_id = 1  # Example user\n",
    "movie_id = 3  # Example movie\n",
    "\n",
    "svd_predictions = best_svd.predict(uid=user_id, iid=movie_id)\n",
    "print(f\"Predicted rating for User {user_id} and Movie {movie_id}: {svd_predictions.est:.2f}\")"
   ]
  },
  {
   "cell_type": "code",
   "execution_count": 431,
   "metadata": {},
   "outputs": [
    {
     "name": "stdout",
     "output_type": "stream",
     "text": [
      "User 1 - Movie 1: Predicted Rating = 4.68\n",
      "User 1 - Movie 3: Predicted Rating = 4.05\n",
      "User 1 - Movie 6: Predicted Rating = 4.71\n",
      "User 1 - Movie 47: Predicted Rating = 4.72\n",
      "User 1 - Movie 50: Predicted Rating = 5.00\n"
     ]
    }
   ],
   "source": [
    "# Generate test set from the training data\n",
    "testset = trainset.build_testset()\n",
    "\n",
    "# Get predictions for all testset entries\n",
    "svd_predictions = best_svd.test(testset)\n",
    "\n",
    "# Print first few predictions\n",
    "for pred in svd_predictions[:5]:  # Show first 5\n",
    "    print(f\"User {pred.uid} - Movie {pred.iid}: Predicted Rating = {pred.est:.2f}\")"
   ]
  },
  {
   "cell_type": "markdown",
   "metadata": {},
   "source": [
    "## 7.1 Recommendation function & Example"
   ]
  },
  {
   "cell_type": "markdown",
   "metadata": {},
   "source": [
    "### 7.1.1 Collaborataive filtering using SVD model Movie Recommendation\n",
    "Let's build a collaborative filtering function to recommend movies"
   ]
  },
  {
   "cell_type": "code",
   "execution_count": 432,
   "metadata": {},
   "outputs": [],
   "source": [
    "# Function to recommend movies for a user\n",
    "def recommend_movies(model, user_id, movies_df, ratings_df, n=5):\n",
    "\n",
    "    # Recommend top-N movies for a given user based on predicted ratings.\n",
    "    \n",
    "    # Get all movie IDs\n",
    "    all_movie_ids = movies_df[\"movieId\"].unique()\n",
    "\n",
    "    # Get movies the user has already rated\n",
    "    rated_movies = ratings_df[ratings_df[\"userId\"] == user_id][\"movieId\"].values\n",
    "\n",
    "    # Find movies the user hasn't rated\n",
    "    unrated_movies = [movie for movie in all_movie_ids if movie not in rated_movies]\n",
    "\n",
    "    # Predict ratings for unseen movies\n",
    "    predictions = [model.predict(user_id, movie_id) for movie_id in unrated_movies]\n",
    "\n",
    "    # Sort predictions by estimated rating\n",
    "    predictions.sort(key=lambda x: x.est, reverse=True)\n",
    "\n",
    "    # Get top-N movie recommendations\n",
    "    top_movie_ids = [pred.iid for pred in predictions[:n]]\n",
    "\n",
    "    # Get movie titles\n",
    "    recommended_movies = movies_df[movies_df[\"movieId\"].isin(top_movie_ids)]\n",
    "\n",
    "    return recommended_movies\n",
    "\n"
   ]
  },
  {
   "cell_type": "markdown",
   "metadata": {},
   "source": [
    "Recommend using the best params from the model:"
   ]
  },
  {
   "cell_type": "code",
   "execution_count": 433,
   "metadata": {},
   "outputs": [
    {
     "name": "stdout",
     "output_type": "stream",
     "text": [
      "      movieId                                              title  \\\n",
      "277       318                   Shawshank Redemption, The (1994)   \n",
      "602       750  Dr. Strangelove or: How I Learned to Stop Worr...   \n",
      "694       912                                  Casablanca (1942)   \n",
      "4909     7361       Eternal Sunshine of the Spotless Mind (2004)   \n",
      "6648    56782                         There Will Be Blood (2007)   \n",
      "\n",
      "                    genres  \n",
      "277            Crime|Drama  \n",
      "602             Comedy|War  \n",
      "694          Drama|Romance  \n",
      "4909  Drama|Romance|Sci-Fi  \n",
      "6648         Drama|Western  \n"
     ]
    }
   ],
   "source": [
    "# Load data using surprise library\n",
    "reader = Reader(rating_scale=(0.5, 5.0))\n",
    "data = Dataset.load_from_df(merged_df[['userId', 'movieId', 'rating']], reader)\n",
    "\n",
    "# Create the trainset\n",
    "trainset = data.build_full_trainset()\n",
    "\n",
    "# Train the SVD model udgn the best params # best_params{'n_factors': 20, 'lr_all': 0.002, 'reg_all': 0.02}\n",
    "model = SVD(n_factors=20, lr_all=0.002, reg_all=0.02, random_state=42)\n",
    "model.fit(trainset)\n",
    "\n",
    "# Predict: Example -> Recommend top 5 movies for user with ID 1\n",
    "user_id = 1\n",
    "top_movies = recommend_movies(model, user_id, movies_data, ratings_data, n=5)\n",
    "print(top_movies)"
   ]
  },
  {
   "cell_type": "markdown",
   "metadata": {},
   "source": [
    "### 7.1.2 Content-Based Filtering using SVD model Movie Recommendation\n",
    "Instead of predicting user ratings (collaborative filtering approach), we can find similar movies based on SVD's latent factors:"
   ]
  },
  {
   "cell_type": "code",
   "execution_count": 434,
   "metadata": {},
   "outputs": [],
   "source": [
    "# Load Data for SVD\n",
    "reader = Reader(rating_scale=(0.5, 5.0))\n",
    "data = Dataset.load_from_df(merged_df[['userId', 'movieId', 'rating']], reader)\n",
    "\n",
    "# Train SVD Model\n",
    "trainset = data.build_full_trainset()\n",
    "svd_model = SVD(n_factors=20, lr_all=0.002, reg_all=0.02, random_state=42) # Using the best params\n",
    "svd_model.fit(trainset)\n",
    "\n",
    "# Extract Movie Embeddings (Latent Factors)\n",
    "movie_factors = svd_model.pu  # Extract learned latent factors for movies\n",
    "\n",
    "# Create a DataFrame for movie embeddings\n",
    "movie_embeddings = pd.DataFrame(movie_factors, index=trainset.all_users())"
   ]
  },
  {
   "cell_type": "markdown",
   "metadata": {},
   "source": [
    "Create a function to find similar movies"
   ]
  },
  {
   "cell_type": "code",
   "execution_count": 435,
   "metadata": {},
   "outputs": [
    {
     "name": "stdout",
     "output_type": "stream",
     "text": [
      "      movieId                          title\n",
      "305       347             Bitter Moon (1992)\n",
      "676       892           Twelfth Night (1996)\n",
      "1577     2116  Lord of the Rings, The (1978)\n",
      "1640     2186    Strangers on a Train (1951)\n",
      "2460     3273                Scream 3 (2000)\n"
     ]
    }
   ],
   "source": [
    "# Find Similar Movies\n",
    "def find_similar_movies(movie_id, n=5):\n",
    "    \n",
    "    # Check if movie exists on trainset\n",
    "    if movie_id not in trainset.all_items():\n",
    "        return \"Movie not found in training data.\"\n",
    "    \n",
    "    movie_index = trainset.to_inner_iid(movie_id)  # Convert movieId to SVD index\n",
    "    movie_vector = movie_factors[movie_index]  # Get the latent factors of the target movie\n",
    "    \n",
    "    # Compute similarity (cosine similarity)\n",
    "    similarities = np.dot(movie_factors, movie_vector)\n",
    "    similar_movie_indices = np.argsort(similarities)[::-1][1:n+1]  # Get top N similar movies\n",
    "    \n",
    "    # Convert indices back to movieId\n",
    "    similar_movie_ids = [trainset.to_raw_iid(i) for i in similar_movie_indices]\n",
    "    \n",
    "    # Retrieve movie titles\n",
    "    return movies_data[movies_data['movieId'].isin(similar_movie_ids)][['movieId', 'title']]\n",
    "\n",
    "# Find 5 similar movies to movieId = 1\n",
    "print(find_similar_movies(movie_id=1, n=5))\n"
   ]
  },
  {
   "cell_type": "markdown",
   "metadata": {},
   "source": [
    "# 8. Conclusion"
   ]
  },
  {
   "cell_type": "markdown",
   "metadata": {},
   "source": [
    "From the model created:\n",
    "1. A Singular Value Decomposition (SVD) model performs much better than KNN model for such a recommendation system even without fine tuning. Meaning it will be much improved.\n",
    "\n",
    "2. A collaborative-filtering method of recommendation gives different results compared to content-Based filtering.\n",
    "\n",
    "3. A user-specific model should use content-based as they are coser to user's preference. Though it does not automatically mean that different users will have same preferences despite similarity.\n"
   ]
  },
  {
   "cell_type": "markdown",
   "metadata": {},
   "source": [
    "# 9. Recommendations"
   ]
  },
  {
   "cell_type": "markdown",
   "metadata": {},
   "source": [
    "The recommendations are as follows:\n",
    "1. Modeling with SVD is much better when using recommendation system.\n",
    "\n",
    "2. Other models should be tried to compare performances.\n",
    "\n",
    "3. When using KNN, consider the resources to use especially when fine-tuning the model. \n",
    "\n",
    "4. SVD model is recommended as it is generally better at capturing latent patterns in user-item interactions, leading to better predictions."
   ]
  }
 ],
 "metadata": {
  "kernelspec": {
   "display_name": "learn-env",
   "language": "python",
   "name": "python3"
  },
  "language_info": {
   "codemirror_mode": {
    "name": "ipython",
    "version": 3
   },
   "file_extension": ".py",
   "mimetype": "text/x-python",
   "name": "python",
   "nbconvert_exporter": "python",
   "pygments_lexer": "ipython3",
   "version": "3.8.5"
  }
 },
 "nbformat": 4,
 "nbformat_minor": 2
}
